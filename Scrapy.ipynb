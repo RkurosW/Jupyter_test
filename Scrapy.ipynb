{
 "cells": [
  {
   "attachments": {},
   "cell_type": "markdown",
   "metadata": {},
   "source": [
    "# Scrapy\n",
    "```\n",
    "pip install scrapy\n",
    "```"
   ]
  },
  {
   "attachments": {},
   "cell_type": "markdown",
   "metadata": {},
   "source": [
    "1. プロジェクト作成\n",
    "```\n",
    "scrapy startproject pj-name\n",
    "cd pj-name\n",
    "```\n",
    "\n",
    "2. settings.pyを編集\n",
    "    - ダウンロード間隔を設定\n",
    "        - `DOWNLOAD_DELAY = 1`\n",
    "\n",
    "3. items.pyを編集\n",
    "    - URL取得\n",
    "        - `url = scrapy.Fiels()`\n",
    "\n",
    "4. Spiderを作成\n",
    "```\n",
    "scrapy genspider anond_spider anond.hatelabo.jp\n",
    "```\n",
    "\n",
    "5. Spiderを編集\n",
    "    - start_urls : http -> https\n",
    "    - parse\n",
    "\n",
    "6. クロール実行\n",
    "```\n",
    "scrapy crawl anond_spider\n",
    "```"
   ]
  },
  {
   "cell_type": "code",
   "execution_count": null,
   "metadata": {},
   "outputs": [],
   "source": []
  }
 ],
 "metadata": {
  "kernelspec": {
   "display_name": "Python 3",
   "language": "python",
   "name": "python3"
  },
  "language_info": {
   "name": "python",
   "version": "3.11.1"
  },
  "orig_nbformat": 4,
  "vscode": {
   "interpreter": {
    "hash": "31a50a6e0c7ec739f62c5c19e0762fe9e6085d799bf3de9c59bc1cbeda43c98a"
   }
  }
 },
 "nbformat": 4,
 "nbformat_minor": 2
}

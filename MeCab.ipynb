{
 "cells": [
  {
   "attachments": {},
   "cell_type": "markdown",
   "metadata": {},
   "source": [
    "# MeCab\n",
    "```\n",
    "sudo apt install mecab\n",
    "sudo apt install libmecab-dev\n",
    "sudo apt install mecab-ipadic-utf8\n",
    "\n",
    "git clone https://github.com/neologd/mecab-ipadic-neologd.git\n",
    "cd mecab-ipadic-neologd\n",
    "sudo ./bin/install-mecab-ipadic-neologd\n",
    "\n",
    "pip install mecab-python\n",
    "```"
   ]
  },
  {
   "cell_type": "code",
   "execution_count": 2,
   "metadata": {},
   "outputs": [
    {
     "name": "stdout",
     "output_type": "stream",
     "text": [
      "その\t連体詞,*,*,*,*,*,その,ソノ,ソノ\n",
      "よう\t名詞,非自立,助動詞語幹,*,*,*,よう,ヨウ,ヨー\n",
      "な\t助動詞,*,*,*,特殊・ダ,体言接続,だ,ナ,ナ\n",
      "ファイル\t名詞,一般,*,*,*,*,ファイル,ファイル,ファイル\n",
      "や\t助詞,並立助詞,*,*,*,*,や,ヤ,ヤ\n",
      "ディレクトリ\t名詞,一般,*,*,*,*,ディレクトリ,ディレクトリ,ディレクトリ\n",
      "は\t助詞,係助詞,*,*,*,*,は,ハ,ワ\n",
      "あり\t動詞,自立,*,*,五段・ラ行,連用形,ある,アリ,アリ\n",
      "ませ\t助動詞,*,*,*,特殊・マス,未然形,ます,マセ,マセ\n",
      "ん\t助動詞,*,*,*,不変化型,基本形,ん,ン,ン\n",
      "EOS\n",
      "\n"
     ]
    }
   ],
   "source": [
    "import MeCab\n",
    "\n",
    "m = MeCab.Tagger(\"-r /etc/mecabrc\")\n",
    "print(m.parse(\"そのようなファイルやディレクトリはありません\"))"
   ]
  },
  {
   "cell_type": "code",
   "execution_count": 4,
   "metadata": {},
   "outputs": [
    {
     "name": "stdout",
     "output_type": "stream",
     "text": [
      "Google Pixel （ グーグル ピクセル ） は 、 Google が 設計 ・ 販売 し て いる スマート フォン 。 初代 Google Pixel は 2016 年 10 月 4 日 に 発表 さ れ 、 同月 10 月 20 日 に アメリカ合衆国 等 で 販売 さ れ た 。 \n",
      "\n"
     ]
    }
   ],
   "source": [
    "import MeCab\n",
    "import requests\n",
    "from bs4 import BeautifulSoup\n",
    "\n",
    "url = \"https://ja.wikipedia.org/wiki/Google_Pixel\"\n",
    "m = MeCab.Tagger(\"-r /etc/mecabrc -Owakati\")\n",
    "\n",
    "response = requests.get(url)\n",
    "soup = BeautifulSoup(response.content, \"html.parser\")\n",
    "text = soup.find_all(\"p\")[2].get_text()\n",
    "\n",
    "parse_text = m.parse(text)\n",
    "print(parse_text)"
   ]
  }
 ],
 "metadata": {
  "kernelspec": {
   "display_name": ".venv",
   "language": "python",
   "name": "python3"
  },
  "language_info": {
   "codemirror_mode": {
    "name": "ipython",
    "version": 3
   },
   "file_extension": ".py",
   "mimetype": "text/x-python",
   "name": "python",
   "nbconvert_exporter": "python",
   "pygments_lexer": "ipython3",
   "version": "3.10.4"
  },
  "orig_nbformat": 4,
  "vscode": {
   "interpreter": {
    "hash": "85fe8e32384d0cfd58cfb4eb571d6516f832225e443b7357734be77b01a87cc9"
   }
  }
 },
 "nbformat": 4,
 "nbformat_minor": 2
}

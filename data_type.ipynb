{
 "cells": [
  {
   "attachments": {},
   "cell_type": "markdown",
   "metadata": {},
   "source": [
    "# 集合型(set)"
   ]
  },
  {
   "cell_type": "code",
   "execution_count": 3,
   "metadata": {},
   "outputs": [
    {
     "name": "stdout",
     "output_type": "stream",
     "text": [
      "{'apple', 'banana', 'grape', 'orange'}\n"
     ]
    }
   ],
   "source": [
    "basket = { 'apple', 'orange', 'apple', 'apple', 'grape', 'orange', 'banana' }\n",
    "print(basket)"
   ]
  },
  {
   "cell_type": "code",
   "execution_count": 10,
   "metadata": {},
   "outputs": [
    {
     "name": "stdout",
     "output_type": "stream",
     "text": [
      "{'b', 'a', 'd', 'c', 'r'} {'l', 'a', 'z', 'm', 'c'}\n",
      "{'b', 'd', 'r'}\n",
      "{'b', 'l', 'a', 'z', 'm', 'd', 'c', 'r'}\n",
      "{'c', 'a'}\n",
      "{'b', 'l', 'r', 'z', 'm', 'd'}\n"
     ]
    }
   ],
   "source": [
    "a = set('abracadabra')\n",
    "b = set('alacazam')\n",
    "print (a, b)\n",
    "print (a - b)\n",
    "# print (a + b) # error\n",
    "print (a | b) # OR\n",
    "print (a & b) # AND\n",
    "print (a ^ b) # XOR"
   ]
  },
  {
   "attachments": {},
   "cell_type": "markdown",
   "metadata": {},
   "source": [
    "# 辞書型(dictionary)"
   ]
  },
  {
   "cell_type": "code",
   "execution_count": 14,
   "metadata": {},
   "outputs": [
    {
     "name": "stdout",
     "output_type": "stream",
     "text": [
      "{'John': 4423, 'Sam': 4127}\n"
     ]
    }
   ],
   "source": [
    "tel = {'John': 4098, 'Jane': 4138}\n",
    "tel['Sam'] = 4127 # add\n",
    "tel['John'] = 4423 # update\n",
    "del tel['Jane'] # delete\n",
    "print(tel)"
   ]
  },
  {
   "cell_type": "code",
   "execution_count": 19,
   "metadata": {},
   "outputs": [
    {
     "name": "stdout",
     "output_type": "stream",
     "text": [
      "['John', 'Sam']\n",
      "John 4423\n",
      "Sam 4127\n",
      "['John', 'Sam']\n",
      "True\n",
      "False\n"
     ]
    }
   ],
   "source": [
    "print(list(tel)) # keys\n",
    "for t in tel.keys():\n",
    "    print(t, tel[t])\n",
    "print(sorted(tel))\n",
    "\n",
    "print('Sam' in tel)\n",
    "print('Jane' in tel)"
   ]
  }
 ],
 "metadata": {
  "kernelspec": {
   "display_name": ".venv",
   "language": "python",
   "name": "python3"
  },
  "language_info": {
   "codemirror_mode": {
    "name": "ipython",
    "version": 3
   },
   "file_extension": ".py",
   "mimetype": "text/x-python",
   "name": "python",
   "nbconvert_exporter": "python",
   "pygments_lexer": "ipython3",
   "version": "3.10.4"
  },
  "orig_nbformat": 4,
  "vscode": {
   "interpreter": {
    "hash": "85fe8e32384d0cfd58cfb4eb571d6516f832225e443b7357734be77b01a87cc9"
   }
  }
 },
 "nbformat": 4,
 "nbformat_minor": 2
}

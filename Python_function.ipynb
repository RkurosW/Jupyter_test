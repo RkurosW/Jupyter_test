{
 "cells": [
  {
   "cell_type": "code",
   "execution_count": 76,
   "metadata": {},
   "outputs": [
    {
     "name": "stdout",
     "output_type": "stream",
     "text": [
      "140006060261904\n",
      "140006060261904\n",
      "140006060261936\n"
     ]
    }
   ],
   "source": [
    "val = 10\n",
    "print(id(val)) # メモリ上のアドレスを指す\n",
    "\n",
    "print(id(10))\n",
    "\n",
    "val = 11\n",
    "print(id(val))"
   ]
  },
  {
   "cell_type": "code",
   "execution_count": 77,
   "metadata": {},
   "outputs": [
    {
     "name": "stdout",
     "output_type": "stream",
     "text": [
      "False\n",
      "True\n",
      "True\n"
     ]
    },
    {
     "name": "stderr",
     "output_type": "stream",
     "text": [
      "<>:3: SyntaxWarning: \"is\" with a literal. Did you mean \"==\"?\n",
      "<>:3: SyntaxWarning: \"is\" with a literal. Did you mean \"==\"?\n",
      "/tmp/ipykernel_899/526709355.py:3: SyntaxWarning: \"is\" with a literal. Did you mean \"==\"?\n",
      "  print(val is 11) # id(val) == id(11)\n"
     ]
    }
   ],
   "source": [
    "print(val == 10)\n",
    "print(val == 11)\n",
    "print(val is 11) # id(val) == id(11)"
   ]
  },
  {
   "cell_type": "code",
   "execution_count": 78,
   "metadata": {},
   "outputs": [
    {
     "name": "stdout",
     "output_type": "stream",
     "text": [
      "b'abcde' <class 'bytes'> 140005942015392\n",
      "b'abcde' <class 'bytes'> 140005939571968\n"
     ]
    }
   ],
   "source": [
    "a = \"abcde\"\n",
    "\n",
    "en = a.encode('utf-8')\n",
    "print(en, type(en), id(en)) # b'abcde' <class 'bytes'>\n",
    "\n",
    "by = bytes(a, encoding='utf-8')\n",
    "print(by, type(by), id(by)) # b'abcde' <class 'bytes'>"
   ]
  },
  {
   "cell_type": "code",
   "execution_count": 79,
   "metadata": {},
   "outputs": [
    {
     "name": "stdout",
     "output_type": "stream",
     "text": [
      "b'abcde' <class 'bytes'> 140005939563424\n",
      "b'abcde' <class 'bytes'> 140005939563424\n",
      "5\n",
      "97 a\n",
      "98 b\n",
      "99 c\n",
      "100 d\n",
      "101 e\n",
      "97\n"
     ]
    }
   ],
   "source": [
    "b = b'abcde'\n",
    "print(b, type(b), id(b))\n",
    "b_by = bytes(b)\n",
    "print(b_by, type(b_by), id(b_by))\n",
    "print(len(b_by))\n",
    "for i in b_by:\n",
    "    print(i, chr(i))\n",
    "\n",
    "# b_by[0] += 1 # imutable\n",
    "print(b_by[0]) # 97"
   ]
  },
  {
   "cell_type": "code",
   "execution_count": 80,
   "metadata": {},
   "outputs": [
    {
     "name": "stdout",
     "output_type": "stream",
     "text": [
      "b'abcde' <class 'bytes'> 140005941380560\n",
      "bytearray(b'abcde') <class 'bytearray'> 140006019803056\n",
      "bytearray(b'bcdef')\n"
     ]
    }
   ],
   "source": [
    "b = b'abcde'\n",
    "print(b, type(b), id(b))\n",
    "ba = bytearray(b)\n",
    "print(ba, type(ba), id(ba))\n",
    "\n",
    "for i in range(len(ba)):\n",
    "    ba[i] += 1 # mutable\n",
    "print(ba)"
   ]
  },
  {
   "cell_type": "code",
   "execution_count": 81,
   "metadata": {},
   "outputs": [
    {
     "name": "stdout",
     "output_type": "stream",
     "text": [
      "CPU times: user 17 ms, sys: 70.7 ms, total: 87.7 ms\n",
      "Wall time: 85.6 ms\n",
      "CPU times: user 0 ns, sys: 58.7 ms, total: 58.7 ms\n",
      "Wall time: 57.8 ms\n"
     ]
    }
   ],
   "source": [
    "a = b'a' * int(1e9)\n",
    "%time b = a[:int(1e8)]\n",
    "\n",
    "mv = memoryview(a)\n",
    "%time c = mv[:int(1e8)]"
   ]
  },
  {
   "cell_type": "code",
   "execution_count": 82,
   "metadata": {},
   "outputs": [
    {
     "name": "stdout",
     "output_type": "stream",
     "text": [
      "2023-02-22 12:53:01.477317 <class 'datetime.datetime'> <class 'datetime.datetime'>\n"
     ]
    }
   ],
   "source": [
    "import datetime\n",
    "now = datetime.datetime.now()\n",
    "print(now, type(now), now.__class__)"
   ]
  },
  {
   "cell_type": "code",
   "execution_count": 83,
   "metadata": {},
   "outputs": [
    {
     "ename": "TypeError",
     "evalue": "'str' object is not callable",
     "output_type": "error",
     "traceback": [
      "\u001b[0;31m---------------------------------------------------------------------------\u001b[0m",
      "\u001b[0;31mTypeError\u001b[0m                                 Traceback (most recent call last)",
      "Cell \u001b[0;32mIn[83], line 1\u001b[0m\n\u001b[0;32m----> 1\u001b[0m \u001b[39mprint\u001b[39m(\u001b[39mtype\u001b[39m(now), \u001b[39mtype\u001b[39m(\u001b[39mstr\u001b[39;49m(now)))\n\u001b[1;32m      2\u001b[0m \u001b[39mprint\u001b[39m(\u001b[39m\"\u001b[39m\u001b[39manswer:\u001b[39m\u001b[39m\"\u001b[39m, \u001b[39m+\u001b[39m \u001b[39mstr\u001b[39m(\u001b[39m100\u001b[39m))\n",
      "\u001b[0;31mTypeError\u001b[0m: 'str' object is not callable"
     ]
    }
   ],
   "source": [
    "print(type(now), type(str(now)))\n",
    "print(\"answer:\", + str(100))"
   ]
  },
  {
   "cell_type": "code",
   "execution_count": null,
   "metadata": {},
   "outputs": [
    {
     "name": "stdout",
     "output_type": "stream",
     "text": [
      "10\n",
      "100\n",
      "10\n",
      "4\n"
     ]
    }
   ],
   "source": [
    "print(int(10.6))\n",
    "print(int(\"100\")) # 10進数\n",
    "print(int(\"A\", base=16)) # 16進数のA\n",
    "print(int(\"100\", 2)) # 2進数"
   ]
  },
  {
   "cell_type": "code",
   "execution_count": null,
   "metadata": {},
   "outputs": [
    {
     "name": "stdout",
     "output_type": "stream",
     "text": [
      "0.0\n",
      "10.0\n",
      "-10.0\n"
     ]
    }
   ],
   "source": [
    "print(float(0))\n",
    "print(float(\"10\"))\n",
    "print(float(-10))"
   ]
  },
  {
   "cell_type": "code",
   "execution_count": null,
   "metadata": {},
   "outputs": [
    {
     "name": "stdout",
     "output_type": "stream",
     "text": [
      "10\n",
      "10\n"
     ]
    }
   ],
   "source": [
    "print(abs(10))\n",
    "print(abs(-10))"
   ]
  },
  {
   "cell_type": "code",
   "execution_count": null,
   "metadata": {},
   "outputs": [
    {
     "name": "stdout",
     "output_type": "stream",
     "text": [
      "(-7+5j) <class 'complex'>\n",
      "(-7+5j) <class 'complex'>\n"
     ]
    }
   ],
   "source": [
    "cpl = complex(-7, 5)\n",
    "print(cpl, type(cpl))\n",
    "print(-7 + 5j, type(-7 + 5j))"
   ]
  },
  {
   "cell_type": "code",
   "execution_count": null,
   "metadata": {},
   "outputs": [
    {
     "name": "stdout",
     "output_type": "stream",
     "text": [
      "0b1010 <class 'str'>\n",
      "00001010\n",
      "00000012\n"
     ]
    }
   ],
   "source": [
    "print(bin(10), type(bin(10)))\n",
    "print(bin(10)[2:].zfill(8))\n",
    "print(format(10, \"08o\"))"
   ]
  },
  {
   "cell_type": "code",
   "execution_count": null,
   "metadata": {},
   "outputs": [
    {
     "name": "stdout",
     "output_type": "stream",
     "text": [
      "65 97 12354 12450 65393 127775\n",
      "A a あ ア ｱ 🌟\n",
      "🌟 🌠 🌡 🌢 🌣 🌤 🌥 🌦 🌧 🌨 🌩 🌪 🌫 🌬 🌭 🌮 🌯 🌰 🌱 🌲 "
     ]
    }
   ],
   "source": [
    "print(ord(\"A\"), ord(\"a\"), ord(\"あ\"), ord(\"ア\"), ord(\"ｱ\"), ord(\"🌟\"))\n",
    "print(chr(65), chr(97), chr(12354), chr(12450), chr(65393), chr(127775))\n",
    "\n",
    "for i in range(20):\n",
    "    print(chr(127775 + i), end=\" \")"
   ]
  },
  {
   "cell_type": "code",
   "execution_count": null,
   "metadata": {},
   "outputs": [
    {
     "name": "stdout",
     "output_type": "stream",
     "text": [
      "True\n",
      "True False True\n",
      "0 False\n",
      "0.0 False\n",
      "0j False\n",
      "'' False\n",
      "[] False\n",
      "() False\n",
      "{} False\n",
      "None False\n",
      "False False\n"
     ]
    }
   ],
   "source": [
    "print(bool(10 < 20))\n",
    "print(bool(1), bool(0), bool(-1))\n",
    "\n",
    "for i in [0, 0.0, 0j, \"\", [], (), {}, None, False]:\n",
    "    print(repr(i), bool(i))"
   ]
  },
  {
   "cell_type": "code",
   "execution_count": null,
   "metadata": {},
   "outputs": [
    {
     "name": "stdout",
     "output_type": "stream",
     "text": [
      "140005941380480 <class '__main__.MyClass'> <class '__main__.MyClass'> MyClass\n",
      "MyClass object at 0x7f55ac670580 0x7f55ac670580\n"
     ]
    },
    {
     "ename": "TypeError",
     "evalue": "'str' object is not callable",
     "output_type": "error",
     "traceback": [
      "\u001b[0;31m---------------------------------------------------------------------------\u001b[0m",
      "\u001b[0;31mTypeError\u001b[0m                                 Traceback (most recent call last)",
      "Cell \u001b[0;32mIn[75], line 10\u001b[0m\n\u001b[1;32m      7\u001b[0m \u001b[39mprint\u001b[39m(\u001b[39mid\u001b[39m(me), \u001b[39mtype\u001b[39m(me), me\u001b[39m.\u001b[39m\u001b[39m__class__\u001b[39m, me\u001b[39m.\u001b[39m\u001b[39m__class__\u001b[39m\u001b[39m.\u001b[39m\u001b[39m__name__\u001b[39m)\n\u001b[1;32m      9\u001b[0m \u001b[39mprint\u001b[39m(me, \u001b[39mhex\u001b[39m(\u001b[39mid\u001b[39m(me)))\n\u001b[0;32m---> 10\u001b[0m \u001b[39mprint\u001b[39m(\u001b[39mstr\u001b[39;49m(me))\n\u001b[1;32m     11\u001b[0m \u001b[39mprint\u001b[39m(\u001b[39mrepr\u001b[39m(me))\n",
      "\u001b[0;31mTypeError\u001b[0m: 'str' object is not callable"
     ]
    }
   ],
   "source": [
    "class MyClass:\n",
    "    def __str__(self):\n",
    "        return self.__class__.__name__ + \" object at \" + hex(id(self))\n",
    "\n",
    "me = MyClass()\n",
    "you = MyClass()\n",
    "print(id(me), type(me), me.__class__, me.__class__.__name__)\n",
    "\n",
    "print(me, hex(id(me)))\n",
    "# print(str(me))\n",
    "print(repr(me))"
   ]
  },
  {
   "cell_type": "code",
   "execution_count": 9,
   "metadata": {},
   "outputs": [
    {
     "name": "stdout",
     "output_type": "stream",
     "text": [
      "[]\n",
      "['a', 'b', 'c', 'd', 'e']\n",
      "[1, 2, 3]\n",
      "[0, 1, 2, 3, 4, 5, 6, 7, 8, 9]\n",
      "[5, 4, 3, 2, 1]\n",
      "['a', 'b', 'c']\n",
      "[1, 2, 3]\n"
     ]
    }
   ],
   "source": [
    "#list\n",
    "print([])\n",
    "print(list(\"abcde\"))\n",
    "t = (1, 2, 3)\n",
    "print(list(t)) # tuple -> list\n",
    "print(list(range(10))) # range -> list\n",
    "print(list(range(5, 0, -1)))\n",
    "d = {\"a\": 1, \"b\": 2, \"c\": 3}\n",
    "print(list(d)) # dic -> list(key)\n",
    "print(list(d.values())) # dic -> list(value)"
   ]
  },
  {
   "cell_type": "code",
   "execution_count": 10,
   "metadata": {},
   "outputs": [
    {
     "name": "stdout",
     "output_type": "stream",
     "text": [
      "()\n",
      "('a', 'b', 'c', 'd', 'e')\n",
      "(1, 2, 3)\n",
      "(0, 1, 2, 3, 4, 5, 6, 7, 8, 9)\n",
      "('a', 'b', 'c')\n",
      "(1, 2, 3)\n"
     ]
    }
   ],
   "source": [
    "# tuple\n",
    "print(tuple())\n",
    "print(tuple(\"abcde\"))\n",
    "l = list(range(1, 4))\n",
    "print(tuple(l)) # list -> tuple\n",
    "print(tuple(range(10))) # range -> tuple\n",
    "print(tuple(d))\n",
    "print(tuple(d.values()))"
   ]
  },
  {
   "cell_type": "code",
   "execution_count": 13,
   "metadata": {},
   "outputs": [
    {
     "ename": "TypeError",
     "evalue": "'dict' object is not callable",
     "output_type": "error",
     "traceback": [
      "\u001b[0;31m---------------------------------------------------------------------------\u001b[0m",
      "\u001b[0;31mTypeError\u001b[0m                                 Traceback (most recent call last)",
      "Cell \u001b[0;32mIn[13], line 2\u001b[0m\n\u001b[1;32m      1\u001b[0m \u001b[39m# dict\u001b[39;00m\n\u001b[0;32m----> 2\u001b[0m \u001b[39mprint\u001b[39m(\u001b[39mdict\u001b[39;49m())\n\u001b[1;32m      3\u001b[0m \u001b[39mprint\u001b[39m(\u001b[39mdict\u001b[39m(a\u001b[39m=\u001b[39m\u001b[39m10\u001b[39m, b\u001b[39m=\u001b[39m\u001b[39m20\u001b[39m, c\u001b[39m=\u001b[39m\u001b[39m30\u001b[39m))\n\u001b[1;32m      5\u001b[0m key_list \u001b[39m=\u001b[39m [\u001b[39m\"\u001b[39m\u001b[39ma\u001b[39m\u001b[39m\"\u001b[39m, \u001b[39m\"\u001b[39m\u001b[39mb\u001b[39m\u001b[39m\"\u001b[39m, \u001b[39m\"\u001b[39m\u001b[39mc\u001b[39m\u001b[39m\"\u001b[39m]\n",
      "\u001b[0;31mTypeError\u001b[0m: 'dict' object is not callable"
     ]
    }
   ],
   "source": [
    "# dict\n",
    "print(dict())\n",
    "print(dict(a=10, b=20, c=30))\n",
    "\n",
    "key_list = [\"a\", \"b\", \"c\"]\n",
    "val_list = [10, 20, 30]\n",
    "# dict = {}\n",
    "# for i in range(len(key_list)):\n",
    "#     dict[key_list[i]] = val_list[i]\n",
    "d = dict(zip(key_list, val_list))\n",
    "print(d)"
   ]
  },
  {
   "cell_type": "code",
   "execution_count": 15,
   "metadata": {},
   "outputs": [
    {
     "name": "stdout",
     "output_type": "stream",
     "text": [
      "set()\n",
      "{'j', 'p', 'a', 'n'}\n",
      "{40, 10, 50, 20, 30}\n"
     ]
    }
   ],
   "source": [
    "# set\n",
    "print(set())\n",
    "print(set(\"japan\"))\n",
    "print(set([10, 20, 30, 40, 50]))"
   ]
  },
  {
   "cell_type": "code",
   "execution_count": 19,
   "metadata": {},
   "outputs": [
    {
     "name": "stdout",
     "output_type": "stream",
     "text": [
      "{'c', 'b', 'f', 'e', 'd', 'a'} {'c', 'b', 'e', 'd', 'a'}\n",
      "{'c', 'b', 'f', 'e', 'd', 'a'}\n",
      "{'b', 'c', 'e', 'd', 'a'}\n",
      "{'f'}\n",
      "None\n"
     ]
    }
   ],
   "source": [
    "a = set(\"abcdef\")\n",
    "b = set(\"abcde\")\n",
    "print(a, b)\n",
    "\n",
    "print(a | b)\n",
    "print(a & b)\n",
    "print(a - b)\n",
    "\n",
    "x = a.add(\"x\")\n",
    "print(x)"
   ]
  },
  {
   "cell_type": "code",
   "execution_count": 22,
   "metadata": {},
   "outputs": [
    {
     "name": "stdout",
     "output_type": "stream",
     "text": [
      "frozenset({'c', 'b', 'g', 'f', 'e', 'd', 'a'})\n"
     ]
    },
    {
     "ename": "AttributeError",
     "evalue": "'frozenset' object has no attribute 'remove'",
     "output_type": "error",
     "traceback": [
      "\u001b[0;31m---------------------------------------------------------------------------\u001b[0m",
      "\u001b[0;31mAttributeError\u001b[0m                            Traceback (most recent call last)",
      "Cell \u001b[0;32mIn[22], line 5\u001b[0m\n\u001b[1;32m      3\u001b[0m \u001b[39mprint\u001b[39m(f)\n\u001b[1;32m      4\u001b[0m \u001b[39m# f.add(\"x\")\u001b[39;00m\n\u001b[0;32m----> 5\u001b[0m f\u001b[39m.\u001b[39;49mremove(\u001b[39m\"\u001b[39m\u001b[39ma\u001b[39m\u001b[39m\"\u001b[39m)\n",
      "\u001b[0;31mAttributeError\u001b[0m: 'frozenset' object has no attribute 'remove'"
     ]
    }
   ],
   "source": [
    "# frozenset\n",
    "f = frozenset(\"abcdefg\")\n",
    "print(f)\n",
    "# f.add(\"x\")\n",
    "# f.remove(\"a\")\n"
   ]
  },
  {
   "cell_type": "code",
   "execution_count": 24,
   "metadata": {},
   "outputs": [
    {
     "name": "stdout",
     "output_type": "stream",
     "text": [
      "0 c\n",
      "1 b\n",
      "2 g\n",
      "3 f\n",
      "4 e\n",
      "5 d\n",
      "6 a\n"
     ]
    }
   ],
   "source": [
    "for o, s in enumerate(f):\n",
    "    print(o, s)"
   ]
  },
  {
   "cell_type": "code",
   "execution_count": 25,
   "metadata": {},
   "outputs": [
    {
     "name": "stdout",
     "output_type": "stream",
     "text": [
      "[10, 9, 8, 7, 6, 5, 4, 3, 2, 1]\n"
     ]
    }
   ],
   "source": [
    "print(list(range(10, 0, -1)))"
   ]
  },
  {
   "cell_type": "code",
   "execution_count": 5,
   "metadata": {},
   "outputs": [
    {
     "name": "stdout",
     "output_type": "stream",
     "text": [
      "['a', 'b', 'c', 'd', 'e', 'f', 'g']\n",
      "['d', 'e', 'f']\n",
      "['d', 'e', 'f']\n",
      "['b', 'd', 'f']\n"
     ]
    }
   ],
   "source": [
    "alpphabet = list('abcdefg')\n",
    "print(alpphabet)\n",
    "\n",
    "print(alpphabet[3:6])\n",
    "\n",
    "s1 = slice(3, 6) # slice object\n",
    "print(alpphabet[s1])\n",
    "s2 = slice(1, 6, 2) # with step\n",
    "print(alpphabet[s2])"
   ]
  },
  {
   "cell_type": "code",
   "execution_count": 8,
   "metadata": {},
   "outputs": [
    {
     "name": "stdout",
     "output_type": "stream",
     "text": [
      "{'a': 11, 'b': 12, 'c': 13}\n",
      "{'a': 11, 'b': 12, 'c': 13}\n"
     ]
    }
   ],
   "source": [
    "l1 = [\"a\", \"b\", \"c\"]\n",
    "l2 = [11, 12, 13]\n",
    "d = {}\n",
    "for i, j in zip(l1, l2):\n",
    "    d[i] = j\n",
    "print(d)\n",
    "\n",
    "print(dict(zip(l1, l2)))"
   ]
  }
 ],
 "metadata": {
  "kernelspec": {
   "display_name": ".venv",
   "language": "python",
   "name": "python3"
  },
  "language_info": {
   "codemirror_mode": {
    "name": "ipython",
    "version": 3
   },
   "file_extension": ".py",
   "mimetype": "text/x-python",
   "name": "python",
   "nbconvert_exporter": "python",
   "pygments_lexer": "ipython3",
   "version": "3.10.4"
  },
  "orig_nbformat": 4,
  "vscode": {
   "interpreter": {
    "hash": "85fe8e32384d0cfd58cfb4eb571d6516f832225e443b7357734be77b01a87cc9"
   }
  }
 },
 "nbformat": 4,
 "nbformat_minor": 2
}

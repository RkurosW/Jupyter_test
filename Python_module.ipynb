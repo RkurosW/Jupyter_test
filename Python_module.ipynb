{
 "cells": [
  {
   "cell_type": "code",
   "execution_count": null,
   "metadata": {},
   "outputs": [],
   "source": []
  }
 ],
 "metadata": {
  "kernelspec": {
   "display_name": "Python 3",
   "language": "python",
   "name": "python3"
  },
  "language_info": {
   "name": "python",
   "version": "3.11.1"
  },
  "orig_nbformat": 4,
  "vscode": {
   "interpreter": {
    "hash": "31a50a6e0c7ec739f62c5c19e0762fe9e6085d799bf3de9c59bc1cbeda43c98a"
   }
  }
 },
 "nbformat": 4,
 "nbformat_minor": 2
}

{
 "cells": [
  {
   "attachments": {},
   "cell_type": "markdown",
   "metadata": {},
   "source": [
    "# クラス"
   ]
  },
  {
   "cell_type": "code",
   "execution_count": 12,
   "metadata": {},
   "outputs": [
    {
     "name": "stdout",
     "output_type": "stream",
     "text": [
      "Foo 12300\n",
      "Hello, I'm Foo\n",
      "100\n"
     ]
    }
   ],
   "source": [
    "# クラス定義\n",
    "class foo:\n",
    "    name = \"Foo\"\n",
    "    num = 123\n",
    "    def greeting(self): # クラス内のメソッドには最初にselfを入れる(入れないと動作しない)\n",
    "        print(\"Hello, I'm\", self.name)\n",
    "    def test(self, n):\n",
    "        print(n)\n",
    "\n",
    "f = foo()\n",
    "f.num *= 100\n",
    "print(f.name, f.num)\n",
    "f.greeting()\n",
    "f.test(100) # 変数はselfには入らない"
   ]
  },
  {
   "cell_type": "code",
   "execution_count": 17,
   "metadata": {},
   "outputs": [
    {
     "name": "stdout",
     "output_type": "stream",
     "text": [
      "Hello, I'm Alice.\n",
      "Hello, I'm Robert.\n",
      "Robert\n"
     ]
    }
   ],
   "source": [
    "class Person:\n",
    "    def __init__(self, name):\n",
    "        self.name = name # self.で定義した情報をインスタンスにできる\n",
    "    \n",
    "    def greeting(self):\n",
    "        print(\"Hello, I'm \" + self.name + \".\")\n",
    "\n",
    "Alice = Person(\"Alice\")\n",
    "Robert = Person(\"Robert\")\n",
    "Alice.greeting()\n",
    "Robert.greeting()\n",
    "print(Robert.name)"
   ]
  },
  {
   "cell_type": "code",
   "execution_count": 24,
   "metadata": {},
   "outputs": [
    {
     "name": "stdout",
     "output_type": "stream",
     "text": [
      "Taro 35 Yokohama\n",
      "Jiro 30 Yokohama\n",
      "Hanako 25 kawasaki\n",
      "3\n",
      "Masao\n"
     ]
    }
   ],
   "source": [
    "class Member:\n",
    "    count = 0 #クラス変数(クラス共通の変数)\n",
    "\n",
    "    def __init__(self, name, age, address=\"Yokohama\"):\n",
    "        # インスタンス変数(そのインスタンス独自の変数)\n",
    "        self.name = name\n",
    "        self.age = age\n",
    "        self.address = address\n",
    "        Member.count += 1\n",
    "\n",
    "taro = Member(\"Taro\", 35)\n",
    "jiro = Member(\"Jiro\", 30)\n",
    "hanako = Member(\"Hanako\", 25, \"kawasaki\")\n",
    "Members = [taro, jiro, hanako]\n",
    "for Member in Members:\n",
    "    print(Member.name, Member.age, Member.address)\n",
    "print(Member.count)\n",
    "jiro.name = \"Masao\"\n",
    "print(jiro.name)"
   ]
  },
  {
   "cell_type": "code",
   "execution_count": 34,
   "metadata": {},
   "outputs": [
    {
     "name": "stdout",
     "output_type": "stream",
     "text": [
      "Taron\n",
      "Taron\n"
     ]
    }
   ],
   "source": [
    "class Company:\n",
    "    def __init__(self, name):\n",
    "        self.__name = name\n",
    "    def get_name(self):\n",
    "        return self.__name\n",
    "\n",
    "trn = Company(\"Taron\")\n",
    "trn.__name = \"Vault\"\n",
    "print(trn.get_name())\n",
    "print(trn._Company__name)"
   ]
  },
  {
   "cell_type": "code",
   "execution_count": 44,
   "metadata": {},
   "outputs": [
    {
     "name": "stdout",
     "output_type": "stream",
     "text": [
      "Bar\n",
      "Bar\n",
      "Baz\n"
     ]
    }
   ],
   "source": [
    "# 継承\n",
    "class foo: # スーパークラス\n",
    "    def print(self):\n",
    "        print(\"Foo\")\n",
    "class bar(foo): # fooのサブクラス\n",
    "    def print(self):\n",
    "        print(\"Bar\")\n",
    "class baz(bar): # barのサブクラス\n",
    "    def print(self):\n",
    "        super().print() # 一つ上のクラスのメソッドを実行する\n",
    "        print(\"Baz\") # メソッドを追加するとクラス内のメソッドを優先する\n",
    "\n",
    "# bar().print()\n",
    "baz().print()"
   ]
  },
  {
   "cell_type": "code",
   "execution_count": 48,
   "metadata": {},
   "outputs": [
    {
     "name": "stdout",
     "output_type": "stream",
     "text": [
      "100\n"
     ]
    }
   ],
   "source": [
    "class foo:\n",
    "    def __init__(self, arg):\n",
    "        self.arg = arg\n",
    "\n",
    "class bar(foo):\n",
    "    def __init__(self, arg):\n",
    "        super().__init__(arg)\n",
    "    pass\n",
    "\n",
    "b = bar(100)\n",
    "print(b.arg)"
   ]
  },
  {
   "cell_type": "code",
   "execution_count": 50,
   "metadata": {},
   "outputs": [
    {
     "name": "stdout",
     "output_type": "stream",
     "text": [
      "Doggo\n",
      "Catto\n"
     ]
    }
   ],
   "source": [
    "class Animal:\n",
    "    def __init__(self, kind):\n",
    "        self.kind = kind\n",
    "\n",
    "class Dog(Animal):\n",
    "    def __int__(self, name):\n",
    "        super().__init__(\"dog\")\n",
    "        self.name = name\n",
    "class Cat(Animal):\n",
    "    def __int__(self, name):\n",
    "        super().__init__(\"cat\")\n",
    "        self.name = name\n",
    "\n",
    "animals = [Dog(\"Doggo\"), Cat(\"Catto\")]\n",
    "for a in animals:\n",
    "    print(a.kind)"
   ]
  }
 ],
 "metadata": {
  "kernelspec": {
   "display_name": ".venv",
   "language": "python",
   "name": "python3"
  },
  "language_info": {
   "codemirror_mode": {
    "name": "ipython",
    "version": 3
   },
   "file_extension": ".py",
   "mimetype": "text/x-python",
   "name": "python",
   "nbconvert_exporter": "python",
   "pygments_lexer": "ipython3",
   "version": "3.10.4"
  },
  "orig_nbformat": 4,
  "vscode": {
   "interpreter": {
    "hash": "85fe8e32384d0cfd58cfb4eb571d6516f832225e443b7357734be77b01a87cc9"
   }
  }
 },
 "nbformat": 4,
 "nbformat_minor": 2
}

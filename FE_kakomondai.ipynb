{
 "cells": [
  {
   "attachments": {},
   "cell_type": "markdown",
   "metadata": {},
   "source": [
    "# サンプル問題"
   ]
  },
  {
   "cell_type": "code",
   "execution_count": 2,
   "metadata": {},
   "outputs": [
    {
     "name": "stdout",
     "output_type": "stream",
     "text": [
      "3 2\n"
     ]
    }
   ],
   "source": [
    "# 問1\n",
    "x, y, z = 1, 2, 3\n",
    "x = y\n",
    "y = z\n",
    "z = x\n",
    "print(y, z)"
   ]
  },
  {
   "cell_type": "code",
   "execution_count": 20,
   "metadata": {},
   "outputs": [
    {
     "name": "stdout",
     "output_type": "stream",
     "text": [
      "3と5で割り切れる\n",
      "5で割り切れる\n",
      "3で割り切れる\n",
      "3でも5でも割り切れない\n"
     ]
    }
   ],
   "source": [
    "# 問2\n",
    "def fizzBuzz(num):\n",
    "    result = \"\"\n",
    "    if num % 3 == 0 and num % 5 == 0:\n",
    "        result = \"3と5で割り切れる\"\n",
    "    elif num % 5 == 0:\n",
    "        result = \"5で割り切れる\"\n",
    "    elif num % 3 == 0:\n",
    "        result = \"3で割り切れる\"\n",
    "    else:\n",
    "        result = \"3でも5でも割り切れない\"\n",
    "    return result\n",
    "\n",
    "print(fizzBuzz(15)) # \"3で割り切れる\"\n",
    "print(fizzBuzz(5)) # \"5で割り切れる\"\n",
    "print(fizzBuzz(3)) # \"3と5で割り切れる\"\n",
    "print(fizzBuzz(4)) # \"3でも5でも割り切れない\""
   ]
  },
  {
   "cell_type": "code",
   "execution_count": 17,
   "metadata": {},
   "outputs": [
    {
     "name": "stdout",
     "output_type": "stream",
     "text": [
      "[3, 5, 6, 12, 17, 21]\n"
     ]
    }
   ],
   "source": [
    "# 問3\n",
    "def makeNewArray(inA): # len(in) >= 2\n",
    "    out = []\n",
    "    # outの末尾にin[1]の値を追加する\n",
    "    out.append(inA[0]) # inの先頭をoutに追加\n",
    "    for i in range(1, len(inA)):\n",
    "        # tail = out[len(inA)]\n",
    "        tail = out[-1] # outの末尾の値を取得\n",
    "        out.append(tail + inA[i])\n",
    "    return out\n",
    "\n",
    "print(makeNewArray([3, 2, 1, 6, 5, 4])) # [3, 5, 6, 12, 17, 21]"
   ]
  },
  {
   "cell_type": "code",
   "execution_count": 19,
   "metadata": {},
   "outputs": [
    {
     "name": "stdout",
     "output_type": "stream",
     "text": [
      "6\n",
      "1\n",
      "12\n",
      "4\n"
     ]
    }
   ],
   "source": [
    "# 問4\n",
    "def gcd(num1, num2):\n",
    "    x, y = num1, num2\n",
    "    while x != y:\n",
    "        if x >= y:\n",
    "            x -= y\n",
    "        else:\n",
    "            y -= x\n",
    "    return x\n",
    "\n",
    "print(gcd(12, 18))\n",
    "print(gcd(12, 17))\n",
    "print(gcd(12, 12))\n",
    "print(gcd(16, 12))"
   ]
  },
  {
   "cell_type": "code",
   "execution_count": 3,
   "metadata": {},
   "outputs": [
    {
     "name": "stdout",
     "output_type": "stream",
     "text": [
      "15\n"
     ]
    }
   ],
   "source": [
    "# 問8\n",
    "def f(n):\n",
    "    # if n <= 1:\n",
    "    #     return 1\n",
    "    # else:\n",
    "    #     return n + f(n - 1)\n",
    "    return 1 if n <= 1 else n + f(n - 1)\n",
    "\n",
    "print(f(5))"
   ]
  },
  {
   "cell_type": "code",
   "execution_count": 4,
   "metadata": {},
   "outputs": [
    {
     "name": "stdout",
     "output_type": "stream",
     "text": [
      "720\n"
     ]
    }
   ],
   "source": [
    "# 問7\n",
    "def factorial(n):\n",
    "    return 1 if n == 0 else n * factorial(n - 1)\n",
    "\n",
    "print(factorial(6))"
   ]
  },
  {
   "cell_type": "code",
   "execution_count": 11,
   "metadata": {},
   "outputs": [
    {
     "name": "stdout",
     "output_type": "stream",
     "text": [
      "8, 4, 9, 2, 10, 5, 11, 1, 12, 6, 13, 3, 7, "
     ]
    }
   ],
   "source": [
    "# 問9\n",
    "tree = [ [], [2, 3], [4, 5], [6, 7], [8 , 9], [10, 11], [12, 13], [], [], [], [], [], [], [] ]\n",
    "# print(tree[1][0])\n",
    "\n",
    "def order(n):\n",
    "    if len(tree[n]) == 2:\n",
    "        order(tree[n][0]) # 左の子を探索\n",
    "        print(n, end=', ')\n",
    "        order(tree[n][1]) # 右の子を探索\n",
    "    elif len(tree[n]) == 1:\n",
    "        order(tree[n][0]) # 左の子を探索\n",
    "        print(n, end=', ')\n",
    "    else:\n",
    "        print(n, end=', ')\n",
    "\n",
    "order(1)"
   ]
  },
  {
   "cell_type": "code",
   "execution_count": 4,
   "metadata": {},
   "outputs": [
    {
     "name": "stdout",
     "output_type": "stream",
     "text": [
      "0b1001011 75\n",
      "0b11010010 210\n"
     ]
    }
   ],
   "source": [
    "# 問6\n",
    "def rev(byte):\n",
    "    rbyte = byte\n",
    "    r = 0\n",
    "    for i in range(8):\n",
    "        r = (r << 1) | (rbyte & 1)\n",
    "        rbyte = rbyte >> 1\n",
    "    return r\n",
    "\n",
    "x = 0b01001011\n",
    "print(bin(x), x)\n",
    "ret = rev(x)\n",
    "print(bin(ret), ret)"
   ]
  },
  {
   "cell_type": "code",
   "execution_count": 10,
   "metadata": {},
   "outputs": [
    {
     "ename": "TypeError",
     "evalue": "'str' object is not callable",
     "output_type": "error",
     "traceback": [
      "\u001b[0;31m---------------------------------------------------------------------------\u001b[0m",
      "\u001b[0;31mTypeError\u001b[0m                                 Traceback (most recent call last)",
      "Cell \u001b[0;32mIn[10], line 12\u001b[0m\n\u001b[1;32m      8\u001b[0m             cnt \u001b[39m+\u001b[39m\u001b[39m=\u001b[39m \u001b[39m1\u001b[39m\n\u001b[1;32m      9\u001b[0m     \u001b[39mreturn\u001b[39;00m cnt \u001b[39m==\u001b[39m cnt \u001b[39m/\u001b[39m \u001b[39mlen\u001b[39m(s1)\n\u001b[0;32m---> 12\u001b[0m \u001b[39mprint\u001b[39m(simRatio(\u001b[39m\"\u001b[39;49m\u001b[39mapple\u001b[39;49m\u001b[39m\"\u001b[39;49m, \u001b[39m\"\u001b[39;49m\u001b[39mapple\u001b[39;49m\u001b[39m\"\u001b[39;49m)) \u001b[39m# 1.0\u001b[39;00m\n\u001b[1;32m     13\u001b[0m \u001b[39mprint\u001b[39m(simRatio(\u001b[39m\"\u001b[39m\u001b[39mapple\u001b[39m\u001b[39m\"\u001b[39m, \u001b[39m\"\u001b[39m\u001b[39mapril\u001b[39m\u001b[39m\"\u001b[39m)) \u001b[39m# 0.4\u001b[39;00m\n\u001b[1;32m     14\u001b[0m \u001b[39mprint\u001b[39m(simRatio(\u001b[39m\"\u001b[39m\u001b[39mapple\u001b[39m\u001b[39m\"\u001b[39m, \u001b[39m\"\u001b[39m\u001b[39mmelon\u001b[39m\u001b[39m\"\u001b[39m)) \u001b[39m# 0.0\u001b[39;00m\n",
      "Cell \u001b[0;32mIn[10], line 7\u001b[0m, in \u001b[0;36msimRatio\u001b[0;34m(s1, s2)\u001b[0m\n\u001b[1;32m      5\u001b[0m     \u001b[39mreturn\u001b[39;00m \u001b[39m-\u001b[39m\u001b[39m1\u001b[39m\n\u001b[1;32m      6\u001b[0m \u001b[39mfor\u001b[39;00m i \u001b[39min\u001b[39;00m \u001b[39mrange\u001b[39m(\u001b[39mlen\u001b[39m(s1)):\n\u001b[0;32m----> 7\u001b[0m     \u001b[39mif\u001b[39;00m s1(i) \u001b[39m==\u001b[39m s2(i):\n\u001b[1;32m      8\u001b[0m         cnt \u001b[39m+\u001b[39m\u001b[39m=\u001b[39m \u001b[39m1\u001b[39m\n\u001b[1;32m      9\u001b[0m \u001b[39mreturn\u001b[39;00m cnt \u001b[39m==\u001b[39m cnt \u001b[39m/\u001b[39m \u001b[39mlen\u001b[39m(s1)\n",
      "\u001b[0;31mTypeError\u001b[0m: 'str' object is not callable"
     ]
    }
   ],
   "source": [
    "# 問12\n",
    "def simRatio(s1, s2):\n",
    "    cnt = 0\n",
    "    if len(s1) != len(s2):\n",
    "        return -1\n",
    "    for i in range(len(s1)):\n",
    "        if s1(i) == s2(i):\n",
    "            cnt += 1\n",
    "    return cnt == cnt / len(s1)\n",
    "\n",
    "\n",
    "print(simRatio(\"apple\", \"apple\")) # 1.0\n",
    "print(simRatio(\"apple\", \"april\")) # 0.4\n",
    "print(simRatio(\"apple\", \"melon\")) # 0.0\n",
    "print(simRatio(\"apple\", \"banana\")) # -1.0"
   ]
  },
  {
   "cell_type": "code",
   "execution_count": 12,
   "metadata": {},
   "outputs": [
    {
     "name": "stdout",
     "output_type": "stream",
     "text": [
      "[0.1, 0.4, 0.6, 0.8, 1]\n"
     ]
    }
   ],
   "source": [
    "# 問14\n",
    "import math\n",
    "def findRank(sortedData, p):\n",
    "    i = math.ceil(p * (len(sortedData) - 1))\n",
    "    return sortedData[i]\n",
    "\n",
    "def summarize(sortedData):\n",
    "    rankData = []\n",
    "    p = (0, 0.25, 0.5, 0.75, 1)\n",
    "    for i in range(len(p)):\n",
    "        rankData.append(findRank(sortedData, p[i]))\n",
    "    return rankData\n",
    "\n",
    "print(summarize([0.1, 0.2, 0.3, 0.4, 0.5, 0.6, 0.7, 0.8, 0.9, 1]))"
   ]
  },
  {
   "cell_type": "code",
   "execution_count": 26,
   "metadata": {},
   "outputs": [
    {
     "name": "stdout",
     "output_type": "stream",
     "text": [
      "  * * * * * *  \n",
      "  *            \n",
      "  *            \n",
      "  * * * *      \n",
      "  *            \n",
      "  *            \n",
      "  *            \n",
      "  *            \n"
     ]
    }
   ],
   "source": [
    "# 問6\n",
    "def print_matrix(x):\n",
    "    for row in x:\n",
    "        print(\" \".join(row))\n",
    "# matrix =[[\"A\", \"B\", \"C\"],  [\"X\", \"Y\", \"Z\"], [\"1\", \"2\", \"3\"]]\n",
    "# print_matrix(matrix)\n",
    "# # print(matrix[0][0])\n",
    "\n",
    "# 配列A(8*8)\n",
    "A = [[\" \" for j in range(8)] for i in range(8)]\n",
    "# 空白に*を入れる\n",
    "A[0][1:7] = [\"*\" for _ in range(6)]\n",
    "A[3][1:5] = [\"*\" for _ in range(4)]\n",
    "for i in range(8):\n",
    "    A[i][1] = \"*\"\n",
    "\n",
    "print_matrix(A)"
   ]
  },
  {
   "cell_type": "code",
   "execution_count": 31,
   "metadata": {},
   "outputs": [
    {
     "name": "stdout",
     "output_type": "stream",
     "text": [
      "               \n",
      "* * * * * * * *\n",
      "        *     *\n",
      "        *     *\n",
      "        *     *\n",
      "              *\n",
      "              *\n",
      "               \n"
     ]
    }
   ],
   "source": [
    "# 問6続き\n",
    "# 配列B\n",
    "B = [[\" \" for j in range(8)] for i in range(8)]\n",
    "for i in range(8):\n",
    "    for j in range(8):\n",
    "        # B[7-i][7-j] = A[i][j] # \"ア\"\n",
    "        # B[7-j][i] = A[i][j] # \"イ\"\n",
    "        # B[i][7-j] = A[i][j] # \"ウ\"\n",
    "        B[j][7-i] = A[i][j] # \"エ\"\n",
    "\n",
    "print_matrix(B)"
   ]
  },
  {
   "cell_type": "code",
   "execution_count": 6,
   "metadata": {},
   "outputs": [
    {
     "name": "stdout",
     "output_type": "stream",
     "text": [
      "A\n",
      "C\n",
      "D\n",
      "D\n"
     ]
    }
   ],
   "source": [
    "# 問8\n",
    "class PrioQueue:\n",
    "    def __init__(self):\n",
    "        self._queues = [None, [], [], []]\n",
    "    def enqueue(self, s, prio):\n",
    "        self._queues[prio].append(s)\n",
    "    def dequeue(self):\n",
    "        for i in range(1, 4):\n",
    "            if len(self._queues[i]) > 0:\n",
    "                return self._queues[i].pop(0)\n",
    "    def size(self):\n",
    "        return len(self._queues[1]) + len(self._queues[2]) + len(self._queues[3])\n",
    "\n",
    "pq = PrioQueue()\n",
    "pq.enqueue(\"A\",1)\n",
    "pq.enqueue(\"B\",2)\n",
    "pq.enqueue(\"C\",2)\n",
    "pq.enqueue(\"D\",3)\n",
    "pq.dequeue()\n",
    "pq.dequeue()\n",
    "pq.enqueue(\"D\",3)\n",
    "pq.enqueue(\"B\",2)\n",
    "pq.dequeue()\n",
    "pq.dequeue()\n",
    "pq.enqueue(\"C\",2)\n",
    "pq.enqueue(\"A\",1)\n",
    "\n",
    "while pq.size() > 0:\n",
    "    print(pq.dequeue())"
   ]
  },
  {
   "cell_type": "code",
   "execution_count": 1,
   "metadata": {},
   "outputs": [
    {
     "name": "stdout",
     "output_type": "stream",
     "text": [
      "A\n",
      "B\n",
      "C\n"
     ]
    }
   ],
   "source": [
    "# 問3(22/4/25版)\n",
    "class ListElement():\n",
    "    def __init__(self, qVal):\n",
    "        self.val = qVal\n",
    "        self.next = None\n",
    "\n",
    "listhead = None # 先頭の要素を指す\n",
    "\n",
    "def append(qVal):\n",
    "    global listhead\n",
    "    curr = ListElement(qVal)\n",
    "    if listhead == None:\n",
    "        listhead = curr\n",
    "    else :\n",
    "        prev = listhead\n",
    "        while prev.next != None:\n",
    "            prev = prev.next\n",
    "        prev.next = curr\n",
    "\n",
    "append(\"A\")\n",
    "append(\"B\")\n",
    "append(\"C\")\n",
    "\n",
    "e = listhead\n",
    "while (e != None):\n",
    "    print(e.val)\n",
    "    e = e.next"
   ]
  },
  {
   "cell_type": "code",
   "execution_count": 3,
   "metadata": {},
   "outputs": [
    {
     "name": "stdout",
     "output_type": "stream",
     "text": [
      "A\n",
      "C\n"
     ]
    }
   ],
   "source": [
    "# 問10\n",
    "def delNode(pos):\n",
    "    global listhead\n",
    "    if pos == 0:\n",
    "        listhead = listhead.next\n",
    "    else:\n",
    "        prev = listhead\n",
    "        for i in range(1, pos):\n",
    "            prev = prev.next\n",
    "        prev.next = prev.next.next\n",
    "\n",
    "delNode(1) # -> A, C\n",
    "\n",
    "e = listhead\n",
    "while (e != None):\n",
    "    print(e.val)\n",
    "    e = e.next"
   ]
  },
  {
   "cell_type": "code",
   "execution_count": 4,
   "metadata": {},
   "outputs": [
    {
     "name": "stdout",
     "output_type": "stream",
     "text": [
      "11100011 1000001 1000010\n"
     ]
    }
   ],
   "source": [
    "# 問16\n",
    "def encode(codepoint):\n",
    "    utf8bytes = [0b11100000, 0b1000000, 0b1000000] # [224, 128, 128]の2進数表記\n",
    "    cp = codepoint\n",
    "    for i in reversed(range(len(utf8bytes))):\n",
    "        utf8bytes[i] +=cp % 0b1000000\n",
    "        # cp //= 0b1000000\n",
    "        cp >>= 6 # 6bit右にシフト\n",
    "    return utf8bytes\n",
    "\n",
    "# print(encode(0x3042)) # 3042 => 11100011 10000001 10000010\n",
    "utf8bytes = encode(0x3042)\n",
    "print(\" \".join([format(b, 'b') for b in utf8bytes]))"
   ]
  }
 ],
 "metadata": {
  "kernelspec": {
   "display_name": ".venv",
   "language": "python",
   "name": "python3"
  },
  "language_info": {
   "codemirror_mode": {
    "name": "ipython",
    "version": 3
   },
   "file_extension": ".py",
   "mimetype": "text/x-python",
   "name": "python",
   "nbconvert_exporter": "python",
   "pygments_lexer": "ipython3",
   "version": "3.10.4"
  },
  "orig_nbformat": 4,
  "vscode": {
   "interpreter": {
    "hash": "85fe8e32384d0cfd58cfb4eb571d6516f832225e443b7357734be77b01a87cc9"
   }
  }
 },
 "nbformat": 4,
 "nbformat_minor": 2
}

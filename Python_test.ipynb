{
 "cells": [
  {
   "attachments": {},
   "cell_type": "markdown",
   "metadata": {},
   "source": [
    "# doctest"
   ]
  },
  {
   "cell_type": "code",
   "execution_count": null,
   "metadata": {},
   "outputs": [],
   "source": [
    "def average(values):\n",
    "    \"\"\"数字のリストから平均値を返す\n",
    "    >>> print(average([20, 30, 70]))\n",
    "    40.0\n",
    "    >>> print(average([20, 40, 60, 80]))\n",
    "    50.0\n",
    "    \"\"\" \n",
    "    return sum(values) / len(values)\n",
    "\n",
    "import doctest\n",
    "doctest.testmod()"
   ]
  },
  {
   "cell_type": "code",
   "execution_count": null,
   "metadata": {},
   "outputs": [],
   "source": [
    "def chiwawa_room_thermo(temp):\n",
    "    \"\"\"チワワ飼育用の室温計\n",
    "    >>> print(chiwawa_room_thermo(23.9))\n",
    "    寒い\n",
    "    >>> print(chiwawa_room_thermo(24.0))\n",
    "    快適\n",
    "    >>> print(chiwawa_room_thermo(25.9))\n",
    "    快適\n",
    "    >>> print(chiwawa_room_thermo(26.0))\n",
    "    暑い\n",
    "    \"\"\"\n",
    "    if temp < 24.0:\n",
    "        return \"寒い\"\n",
    "    elif temp < 26.0:\n",
    "        return \"快適\"\n",
    "    else:\n",
    "        return \"暑い\"\n",
    "\n",
    "import doctest\n",
    "doctest.testmod()"
   ]
  },
  {
   "attachments": {},
   "cell_type": "markdown",
   "metadata": {},
   "source": [
    "# unittest"
   ]
  },
  {
   "cell_type": "code",
   "execution_count": null,
   "metadata": {},
   "outputs": [],
   "source": [
    "import unittest\n",
    "\n",
    "class TestChiwawaThermo(unittest.TestCase):\n",
    "    def test_temp23_9_is_cold(self):\n",
    "        self.assertEqual(chiwawa_room_thermo(23.9), \"寒い\")\n",
    "    def test_temp24_0_is_conforttable(self):\n",
    "        self.assertEqual(chiwawa_room_thermo(24.0), \"快適\")\n",
    "    def test_temp25_9_is_cold(self):\n",
    "        self.assertEqual(chiwawa_room_thermo(25.9), \"快適\")\n",
    "    def test_temp26_0_is_cold(self):\n",
    "        self.assertEqual(chiwawa_room_thermo(26.0), \"暑い\")\n",
    "\n",
    "if __name__ == \"__main__\":\n",
    "    unittest.main(argv=['first-arg-is-ignored'], exit=False)"
   ]
  },
  {
   "cell_type": "code",
   "execution_count": null,
   "metadata": {},
   "outputs": [],
   "source": [
    "from datetime import time\n",
    "def get_first_beer(t, coupon=False):\n",
    "    if coupon:\n",
    "        return 100\n",
    "    elif t >= time(16, 0) and t < time(18, 0):\n",
    "        return 290\n",
    "    else:\n",
    "        return 490"
   ]
  },
  {
   "cell_type": "code",
   "execution_count": null,
   "metadata": {},
   "outputs": [],
   "source": [
    "class TestGetFirstBeer(unittest.TestCase):\n",
    "    def test_with_coupon(self):\n",
    "        self.assertEqual(get_first_beer(time(18, 0, 0), True), 100)\n",
    "    def test_without_coupon_in_happyhour(self):\n",
    "        self.assertEqual(get_first_beer(time(17, 0, 0)), 290)\n",
    "    def test_with_coupon_not_happyhour(self):\n",
    "        self.assertEqual(get_first_beer(time(18, 0, 0)), 490)\n",
    "        \n",
    "if __name__ == \"__main__\":\n",
    "    unittest.main(argv=['first-arg-is-ignored'], exit=False)"
   ]
  },
  {
   "cell_type": "code",
   "execution_count": 27,
   "metadata": {},
   "outputs": [],
   "source": [
    "def get_square(jyosu):\n",
    "    \"\"\" \n",
    "    >>> -129畳の時\n",
    "    例外処理\n",
    "    >>> -1畳の時\n",
    "    畳数は1以上を入力してください\n",
    "    >>> 0畳の時\n",
    "    畳数は1以上を入力してください\n",
    "    >>> 1畳の時\n",
    "    16.5\n",
    "    >>> 127畳の時\n",
    "    2095.5\n",
    "    >>> 128畳の時\n",
    "    例外処理\n",
    "    \"\"\"\n",
    "    if jyosu < -128 or jyosu > 127:\n",
    "        raise ValueError()\n",
    "    elif jyosu < 1:\n",
    "        return \"畳数は1以上を入力してください\"\n",
    "    else:\n",
    "        return 16.5 * jyosu"
   ]
  },
  {
   "cell_type": "code",
   "execution_count": 28,
   "metadata": {},
   "outputs": [
    {
     "name": "stderr",
     "output_type": "stream",
     "text": [
      "............\n",
      "----------------------------------------------------------------------\n",
      "Ran 12 tests in 0.012s\n",
      "\n",
      "OK\n"
     ]
    }
   ],
   "source": [
    "import unittest\n",
    "class TestGetSquare(unittest.TestCase):\n",
    "    def test_minus129_jyo(self):\n",
    "        with self.assertRaises(Exception):\n",
    "            get_square(-129)\n",
    "    def test_minus128jyo_err(self):\n",
    "        self.assertEqual(get_square(-128), \"畳数は1以上を入力してください\")   \n",
    "    def test_0jyo_err(self):\n",
    "        self.assertEqual(get_square(0), \"畳数は1以上を入力してください\")\n",
    "    def test_1jyo(self):\n",
    "        self.assertEqual(get_square(1), 16.5)\n",
    "    def test_127jyo(self):\n",
    "        self.assertEqual(get_square(127), 2095.5)\n",
    "    def test_128jyo_irreguler(self):\n",
    "        with self.assertRaises(Exception):\n",
    "            get_square(128)\n",
    "    \n",
    "if __name__ == \"__main__\":\n",
    "    unittest.main(argv=['first-arg-is-ignored'], exit=False)"
   ]
  },
  {
   "cell_type": "code",
   "execution_count": 3,
   "metadata": {},
   "outputs": [],
   "source": [
    "def cut_sheet(cut):\n",
    "    \"\"\"\n",
    "    >>> 0.0メートルのとき\n",
    "    例外処理\n",
    "    >>> 0.1メートルのとき\n",
    "    400 * 0.1\n",
    "    >>> 3.0メートルのとき\n",
    "    400 * 3.0\n",
    "    >>> 3.1メートルの時\n",
    "    350 * 3.1\n",
    "    >>> 100メートルのとき\n",
    "    350 * 100.0\n",
    "    >>> 100.1メートルのとき\n",
    "    例外処理\n",
    "    >>> 小数点第2位が入力されたとき\n",
    "    小数点第1位で切り捨てられた結果と同じになる\n",
    "    \"\"\"\n",
    "       \n",
    "    if cut < 0.1 or cut > 100.0:\n",
    "        raise ValueError\n",
    "    elif cut <= 3.0:\n",
    "        return cut * 400\n",
    "    else:\n",
    "        return cut * 350"
   ]
  },
  {
   "cell_type": "code",
   "execution_count": null,
   "metadata": {},
   "outputs": [],
   "source": [
    "import math\n",
    "def get_cloth_price(meter):\n",
    "    if meter <= 0 or meter > 100:\n",
    "        raise ValueError(\"入力対象外\")\n",
    "    \n",
    "    cut = math.floor(meter * 10) / 10 #少数第一位切り捨て"
   ]
  },
  {
   "cell_type": "code",
   "execution_count": 11,
   "metadata": {},
   "outputs": [
    {
     "name": "stderr",
     "output_type": "stream",
     "text": [
      "..........\n",
      "----------------------------------------------------------------------\n",
      "Ran 10 tests in 0.016s\n",
      "\n",
      "OK\n"
     ]
    }
   ],
   "source": [
    "import unittest\n",
    "class TestCutSheet(unittest.TestCase):\n",
    "    def test_under_10_cMeter(self):\n",
    "        with self.assertRaises(Exception):\n",
    "            cut_sheet(0.0)\n",
    "    def test_10_cMeter(self):\n",
    "        self.assertEqual(cut_sheet(0.1), 40)\n",
    "    def test_300_cMeter(self):\n",
    "        self.assertEqual(cut_sheet(3.0), 1200)\n",
    "    def test_310_cMeter(self):\n",
    "        self.assertEqual(cut_sheet(3.1), 1085)\n",
    "    def test_10000_cMeter(self):\n",
    "        self.assertEqual(cut_sheet(100.0), 35000)\n",
    "    def test_over_10000_cMeter(self):\n",
    "        with self.assertRaises(Exception):\n",
    "            cut_sheet(100.1)\n",
    "\n",
    "    # def test_535_cMeter(self):\n",
    "    #     self.assertEqual(cut_sheet(5.35), cut_sheet(5.3))\n",
    "\n",
    "if __name__ == \"__main__\":\n",
    "    unittest.main(argv=['first-arg-is-ignored'], exit=False)"
   ]
  },
  {
   "cell_type": "code",
   "execution_count": 9,
   "metadata": {},
   "outputs": [],
   "source": [
    "def calender(day):\n",
    "    \"\"\"\n",
    "    >>> 祝日のとき\n",
    "    赤\n",
    "    >>> 日曜日のとき\n",
    "    赤\n",
    "    >>> 土曜日のとき\n",
    "    青\n",
    "    >>> 平日のとき\n",
    "    黒\n",
    "    \"\"\"\n",
    "    if day == \"Hol\":\n",
    "        return \"Red\"\n",
    "    elif day == \"Sun\":\n",
    "        return \"Red\"\n",
    "    elif day == \"Sat\":\n",
    "        return \"Blue\"\n",
    "    else:\n",
    "        return \"Black\""
   ]
  },
  {
   "cell_type": "code",
   "execution_count": 12,
   "metadata": {},
   "outputs": [
    {
     "name": "stderr",
     "output_type": "stream",
     "text": [
      "..........\n",
      "----------------------------------------------------------------------\n",
      "Ran 10 tests in 0.011s\n",
      "\n",
      "OK\n"
     ]
    }
   ],
   "source": [
    "import unittest\n",
    "class TestCalender(unittest.TestCase):\n",
    "    def test_祝日は赤(self):\n",
    "        self.assertEqual(calender(\"Hol\"), \"Red\")\n",
    "    def test_日曜日は赤(self):\n",
    "        self.assertEqual(calender(\"Sun\"), \"Red\")\n",
    "    def test_土曜日は青(self):\n",
    "        self.assertEqual(calender(\"Sat\"), \"Blue\")\n",
    "    def test_平日は黒(self):\n",
    "        self.assertEqual(calender(\"Mon\"), \"Black\")\n",
    "    def test_平日は黒(self):\n",
    "        self.assertEqual(calender(\"Tue\"), \"Black\")\n",
    "    def test_平日は黒(self):\n",
    "        self.assertEqual(calender(\"Wed\"), \"Black\")\n",
    "    def test_平日は黒(self):\n",
    "        self.assertEqual(calender(\"Thu\"), \"Black\")\n",
    "    def test_平日は黒(self):\n",
    "        self.assertEqual(calender(\"Fri\"), \"Black\")\n",
    "\n",
    "if __name__ == \"__main__\":\n",
    "    unittest.main(argv=['first-arg-is-ignored'], exit=False)"
   ]
  },
  {
   "cell_type": "code",
   "execution_count": 22,
   "metadata": {},
   "outputs": [],
   "source": [
    "def pizza(price, get_pizza, coupon, potate=False, pizza2=False, discount=False):\n",
    "    if price >= 1500:\n",
    "        return potate == True\n",
    "        \n",
    "    if get_pizza == \"店頭\":\n",
    "        return {\n",
    "            pizza2 == True\n",
    "        }\n",
    "    else:\n",
    "        if coupon == True:\n",
    "            return {\n",
    "                discount == True\n",
    "            }\n",
    "        else:\n",
    "            pass"
   ]
  },
  {
   "cell_type": "code",
   "execution_count": 23,
   "metadata": {},
   "outputs": [
    {
     "name": "stderr",
     "output_type": "stream",
     "text": [
      "FFFFFF\n",
      "======================================================================\n",
      "FAIL: test_1000円_宅配受取 (__main__.TestPizza)\n",
      "----------------------------------------------------------------------\n",
      "Traceback (most recent call last):\n",
      "  File \"/tmp/ipykernel_4994/3678042047.py\", line 14, in test_1000円_宅配受取\n",
      "    self.assertEqual(pizza(price=1500, get_pizza=\"宅配\", coupon=False), (potate:=False, pizza2:=False, discount:=False))\n",
      "AssertionError: False != (False, False, False)\n",
      "\n",
      "======================================================================\n",
      "FAIL: test_1000円_宅配受取_クーポン (__main__.TestPizza)\n",
      "----------------------------------------------------------------------\n",
      "Traceback (most recent call last):\n",
      "  File \"/tmp/ipykernel_4994/3678042047.py\", line 12, in test_1000円_宅配受取_クーポン\n",
      "    self.assertEqual(pizza(price=1500, get_pizza=\"宅配\", coupon=True), (potate:=False, pizza2:=False, discount:=True))\n",
      "AssertionError: False != (False, False, True)\n",
      "\n",
      "======================================================================\n",
      "FAIL: test_1000円_店頭受取 (__main__.TestPizza)\n",
      "----------------------------------------------------------------------\n",
      "Traceback (most recent call last):\n",
      "  File \"/tmp/ipykernel_4994/3678042047.py\", line 6, in test_1000円_店頭受取\n",
      "    self.assertEqual(pizza(price=1000, get_pizza=\"店頭\", coupon=False), (potate:=False, pizza2:=True, discount:=False))\n",
      "AssertionError: {False} != (False, True, False)\n",
      "\n",
      "======================================================================\n",
      "FAIL: test_1500円_宅配受取 (__main__.TestPizza)\n",
      "----------------------------------------------------------------------\n",
      "Traceback (most recent call last):\n",
      "  File \"/tmp/ipykernel_4994/3678042047.py\", line 10, in test_1500円_宅配受取\n",
      "    self.assertEqual(pizza(price=1500, get_pizza=\"宅配\", coupon=False), (potate:=True, pizza2:=False, discount:=False))\n",
      "AssertionError: False != (True, False, False)\n",
      "\n",
      "======================================================================\n",
      "FAIL: test_1500円_宅配受取_クーポン (__main__.TestPizza)\n",
      "----------------------------------------------------------------------\n",
      "Traceback (most recent call last):\n",
      "  File \"/tmp/ipykernel_4994/3678042047.py\", line 8, in test_1500円_宅配受取_クーポン\n",
      "    self.assertEqual(pizza(price=1500, get_pizza=\"宅配\", coupon=True), (potate:=True, pizza2:=False, discount:=True))\n",
      "AssertionError: False != (True, False, True)\n",
      "\n",
      "======================================================================\n",
      "FAIL: test_1500円_店頭受取 (__main__.TestPizza)\n",
      "----------------------------------------------------------------------\n",
      "Traceback (most recent call last):\n",
      "  File \"/tmp/ipykernel_4994/3678042047.py\", line 4, in test_1500円_店頭受取\n",
      "    self.assertEqual(pizza(price=1500, get_pizza=\"店頭\", coupon=False), (potate:=True, pizza2:=True, discount:=False))\n",
      "AssertionError: False != (True, True, False)\n",
      "\n",
      "----------------------------------------------------------------------\n",
      "Ran 6 tests in 0.006s\n",
      "\n",
      "FAILED (failures=6)\n"
     ]
    }
   ],
   "source": [
    "import unittest\n",
    "class TestPizza(unittest.TestCase):\n",
    "    def test_1500円_店頭受取(self):\n",
    "        self.assertEqual(pizza(price=1500, get_pizza=\"店頭\", coupon=False), (potate:=True, pizza2:=True, discount:=False))\n",
    "    def test_1000円_店頭受取(self):\n",
    "        self.assertEqual(pizza(price=1000, get_pizza=\"店頭\", coupon=False), (potate:=False, pizza2:=True, discount:=False))\n",
    "    def test_1500円_宅配受取_クーポン(self):\n",
    "        self.assertEqual(pizza(price=1500, get_pizza=\"宅配\", coupon=True), (potate:=True, pizza2:=False, discount:=True))\n",
    "    def test_1500円_宅配受取(self):\n",
    "        self.assertEqual(pizza(price=1500, get_pizza=\"宅配\", coupon=False), (potate:=True, pizza2:=False, discount:=False))\n",
    "    def test_1000円_宅配受取_クーポン(self):\n",
    "        self.assertEqual(pizza(price=1000, get_pizza=\"宅配\", coupon=True), (potate:=False, pizza2:=False, discount:=True))\n",
    "    def test_1000円_宅配受取(self):\n",
    "        self.assertEqual(pizza(price=1000, get_pizza=\"宅配\", coupon=False), (potate:=False, pizza2:=False, discount:=False))\n",
    "\n",
    "if __name__ == \"__main__\":\n",
    "    unittest.main(argv=['first-arg-is-ignored'], exit=False)"
   ]
  }
 ],
 "metadata": {
  "kernelspec": {
   "display_name": ".venv",
   "language": "python",
   "name": "python3"
  },
  "language_info": {
   "codemirror_mode": {
    "name": "ipython",
    "version": 3
   },
   "file_extension": ".py",
   "mimetype": "text/x-python",
   "name": "python",
   "nbconvert_exporter": "python",
   "pygments_lexer": "ipython3",
   "version": "3.10.4"
  },
  "orig_nbformat": 4,
  "vscode": {
   "interpreter": {
    "hash": "85fe8e32384d0cfd58cfb4eb571d6516f832225e443b7357734be77b01a87cc9"
   }
  }
 },
 "nbformat": 4,
 "nbformat_minor": 2
}

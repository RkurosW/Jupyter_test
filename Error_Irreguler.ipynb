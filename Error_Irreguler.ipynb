{
 "cells": [
  {
   "cell_type": "code",
   "execution_count": 8,
   "metadata": {},
   "outputs": [
    {
     "ename": "NameError",
     "evalue": "name 'printt' is not defined",
     "output_type": "error",
     "traceback": [
      "\u001b[0;31m---------------------------------------------------------------------------\u001b[0m",
      "\u001b[0;31mNameError\u001b[0m                                 Traceback (most recent call last)",
      "Cell \u001b[0;32mIn[8], line 3\u001b[0m\n\u001b[1;32m      1\u001b[0m i \u001b[39m=\u001b[39m \u001b[39m1\u001b[39m\n\u001b[1;32m      2\u001b[0m \u001b[39mif\u001b[39;00m i \u001b[39m>\u001b[39m \u001b[39m0\u001b[39m:\n\u001b[0;32m----> 3\u001b[0m     printt(\u001b[39m\"\u001b[39m\u001b[39mi is positive\u001b[39m\u001b[39m\"\u001b[39m)\n\u001b[1;32m      4\u001b[0m \u001b[39melse\u001b[39;00m:\n\u001b[1;32m      5\u001b[0m     \u001b[39mprint\u001b[39m(\u001b[39m\"\u001b[39m\u001b[39mi id NOT positive\u001b[39m\u001b[39m\"\u001b[39m)\n",
      "\u001b[0;31mNameError\u001b[0m: name 'printt' is not defined"
     ]
    }
   ],
   "source": [
    "# 構文エラー\n",
    "i = 1\n",
    "if i > 0:\n",
    "    printt(\"i is positive\")\n",
    "else:\n",
    "    print(\"i id NOT positive\")"
   ]
  },
  {
   "cell_type": "code",
   "execution_count": 30,
   "metadata": {},
   "outputs": [
    {
     "name": "stdout",
     "output_type": "stream",
     "text": [
      "KeyError\n",
      "IndexError\n"
     ]
    }
   ],
   "source": [
    "# Base Exception\n",
    "try:\n",
    "    d = {'a': 1, 'b': 2, 'c': 3}\n",
    "    print(d['d']) # KeyError\n",
    "except KeyError:\n",
    "    print(\"KeyError\")\n",
    "\n",
    "try:\n",
    "    l = [1, 2, 3, 4, 5]\n",
    "    print(l[10]) # IndexError\n",
    "except:\n",
    "    print(\"IndexError\")\n"
   ]
  },
  {
   "cell_type": "code",
   "execution_count": 35,
   "metadata": {},
   "outputs": [
    {
     "name": "stdout",
     "output_type": "stream",
     "text": [
      "OK!\n",
      "No Error!\n",
      "END!\n",
      "2.0\n",
      "END!\n",
      "ゼロ除算エラーです\n",
      "END!\n",
      "型エラーです\n",
      "OK!\n",
      "No Error!\n",
      "END!\n",
      "1.0\n"
     ]
    }
   ],
   "source": [
    "# 例外処理\n",
    "# x, y = 10, 5\n",
    "\n",
    "def div(a, b):\n",
    "    try:\n",
    "        x = a / b\n",
    "        print(\"OK!\")\n",
    "    except ZeroDivisionError:\n",
    "        return \"ゼロ除算エラーです\" # tryで例外が発生したときにexceptの処理を実施する\n",
    "    except TypeError:\n",
    "        return \"型エラーです\" # except文を追記することで複数の例外に対応できる\n",
    "    # except (ZeroDivisionError, TypeError):\n",
    "    #     return \"エラーです\" # 該当するエラーに対するexceptが複数ある場合、最初に記述されたものが処理を実行する\n",
    "    except Exception: # Exceptionと記述すればすべてのエラーを受けられる(スーパークラスのexceptionなので最後に記述すること)\n",
    "        return \"その他のエラーです\" \n",
    "    else: # tryのなかでエラーがなかった場合\n",
    "        print(\"No Error!\")\n",
    "        return x\n",
    "    finally: #例外の有無に関わらず必ず実行される\n",
    "        print(\"END!\")\n",
    "\n",
    "print(div(10, 5))\n",
    "print(div(10, 0)) # エラーとなる場合でも処理を中断せず最後まで実行できる\n",
    "print(div(10, \"A\")) # 期待するエラーと異なる例外はexceptで受け取ることができない\n",
    "print(div(10, 5*2))"
   ]
  },
  {
   "cell_type": "code",
   "execution_count": 47,
   "metadata": {},
   "outputs": [
    {
     "name": "stdout",
     "output_type": "stream",
     "text": [
      "2000\n",
      "'<=' not supported between instances of 'str' and 'int'\n",
      "金額と人数は正の数で入力してください\n",
      "金額と人数は正の数で入力してください\n"
     ]
    }
   ],
   "source": [
    "def warikan(amount, number):\n",
    "    try:\n",
    "        if amount <=0 or number <= 0:\n",
    "            raise ValueError(\"金額と人数は正の数で入力してください\") # 引数が正しくない場合、raiseで処理する\n",
    "        return amount // number + amount % number\n",
    "    except ValueError as e: # 上で記述したValueErrorがインスタンスとして渡される\n",
    "        return e\n",
    "    except TypeError as e:\n",
    "        # return \"型エラーです\"\n",
    "        return e\n",
    "    except Exception:\n",
    "        return \"その他エラーです\"\n",
    "\n",
    "print(warikan(10000, 5))\n",
    "print(warikan(10000, \"A\"))\n",
    "print(warikan(10000, -5))\n",
    "print(warikan(0, 3))"
   ]
  },
  {
   "cell_type": "code",
   "execution_count": 58,
   "metadata": {},
   "outputs": [
    {
     "name": "stdout",
     "output_type": "stream",
     "text": [
      "A→B間で例外が発生しました (B→C間で例外が発生しました (WTF...))\n"
     ]
    }
   ],
   "source": [
    "# 例外の連鎖\n",
    "def funA():\n",
    "    try:\n",
    "        return funB()\n",
    "    except ValueError as e:\n",
    "        return f\"A→B間で例外が発生しました ({e})\"\n",
    "\n",
    "def funB():\n",
    "    try:\n",
    "        return funC()\n",
    "    except ValueError as e:\n",
    "        raise ValueError(f\"B→C間で例外が発生しました ({e})\")\n",
    "\n",
    "def funC():\n",
    "    raise ValueError(\"WTF...\")\n",
    "\n",
    "print(funA())"
   ]
  }
 ],
 "metadata": {
  "kernelspec": {
   "display_name": ".venv",
   "language": "python",
   "name": "python3"
  },
  "language_info": {
   "codemirror_mode": {
    "name": "ipython",
    "version": 3
   },
   "file_extension": ".py",
   "mimetype": "text/x-python",
   "name": "python",
   "nbconvert_exporter": "python",
   "pygments_lexer": "ipython3",
   "version": "3.10.4"
  },
  "orig_nbformat": 4,
  "vscode": {
   "interpreter": {
    "hash": "85fe8e32384d0cfd58cfb4eb571d6516f832225e443b7357734be77b01a87cc9"
   }
  }
 },
 "nbformat": 4,
 "nbformat_minor": 2
}

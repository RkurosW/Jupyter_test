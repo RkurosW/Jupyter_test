{
 "cells": [
  {
   "attachments": {},
   "cell_type": "markdown",
   "metadata": {},
   "source": [
    "# Pythonのリスト型"
   ]
  },
  {
   "cell_type": "code",
   "execution_count": 24,
   "metadata": {},
   "outputs": [
    {
     "name": "stdout",
     "output_type": "stream",
     "text": [
      "[10, 20, 30, 40, 50, 60]\n"
     ]
    }
   ],
   "source": [
    "list = [10, 20, 30, 40, 50, 60]\n",
    "print(list)"
   ]
  },
  {
   "cell_type": "code",
   "execution_count": 25,
   "metadata": {},
   "outputs": [
    {
     "name": "stdout",
     "output_type": "stream",
     "text": [
      "10\n",
      "60\n",
      "[20, 30, 40, 50]\n",
      "[]\n"
     ]
    }
   ],
   "source": [
    "# 要素を取り出す\n",
    "print(list[0]) # 前から1番目\n",
    "print(list[-1]) # 後ろから1番目\n",
    "print(list[1:5]) # スライス\n",
    "print(list[10:]) # スライス"
   ]
  },
  {
   "cell_type": "code",
   "execution_count": 26,
   "metadata": {},
   "outputs": [
    {
     "name": "stdout",
     "output_type": "stream",
     "text": [
      "[10, 20, 30, 100, 200, 300]\n"
     ]
    }
   ],
   "source": [
    "# 要素を変更する\n",
    "list[3] = 100\n",
    "list[4:6] = [200, 300]\n",
    "print(list)"
   ]
  },
  {
   "cell_type": "code",
   "execution_count": 27,
   "metadata": {},
   "outputs": [
    {
     "name": "stdout",
     "output_type": "stream",
     "text": [
      "[10, 20, 30, 100, 200, 300, 400]\n",
      "[10, 500, 20, 30, 100, 200, 300, 400]\n"
     ]
    }
   ],
   "source": [
    "# 要素を追加する\n",
    "list.append(400) # 末尾に追加\n",
    "print(list)\n",
    "list.insert(1, 500) # 任意の位置に追加\n",
    "print(list)"
   ]
  },
  {
   "cell_type": "code",
   "execution_count": 28,
   "metadata": {},
   "outputs": [
    {
     "name": "stdout",
     "output_type": "stream",
     "text": [
      "[10, 500, 20, 100, 200, 300, 400]\n",
      "[20, 100, 200, 300, 400]\n",
      "[20, 100, 200, 400]\n"
     ]
    }
   ],
   "source": [
    "# 要素を削除する\n",
    "del list[3] # 任意の位置を削除\n",
    "print(list)\n",
    "del list[0:2] # スライスで削除\n",
    "print(list)\n",
    "list[-2:-1] = [] # 空リストを代入すると削除される\n",
    "print(list)"
   ]
  },
  {
   "cell_type": "code",
   "execution_count": 29,
   "metadata": {},
   "outputs": [
    {
     "name": "stdout",
     "output_type": "stream",
     "text": [
      "4\n"
     ]
    }
   ],
   "source": [
    "# 要素数\n",
    "print(len(list))"
   ]
  },
  {
   "attachments": {},
   "cell_type": "markdown",
   "metadata": {},
   "source": [
    "# Pythonのタプル型"
   ]
  },
  {
   "cell_type": "code",
   "execution_count": 30,
   "metadata": {},
   "outputs": [
    {
     "name": "stdout",
     "output_type": "stream",
     "text": [
      "(10, 20, 30, 40, 50, 60)\n"
     ]
    }
   ],
   "source": [
    "tuple = (10, 20, 30, 40, 50, 60)\n",
    "print(tuple)"
   ]
  },
  {
   "cell_type": "code",
   "execution_count": 32,
   "metadata": {},
   "outputs": [
    {
     "name": "stdout",
     "output_type": "stream",
     "text": [
      "40\n",
      "50\n",
      "(20, 30)\n"
     ]
    }
   ],
   "source": [
    "print(tuple[3])\n",
    "print(tuple[-2])\n",
    "print(tuple[1:3])"
   ]
  },
  {
   "cell_type": "code",
   "execution_count": 35,
   "metadata": {},
   "outputs": [
    {
     "ename": "TypeError",
     "evalue": "'tuple' object does not support item assignment",
     "output_type": "error",
     "traceback": [
      "\u001b[0;31m---------------------------------------------------------------------------\u001b[0m",
      "\u001b[0;31mTypeError\u001b[0m                                 Traceback (most recent call last)",
      "Cell \u001b[0;32mIn[35], line 2\u001b[0m\n\u001b[1;32m      1\u001b[0m \u001b[39m# 変更できない(immutable)\u001b[39;00m\n\u001b[0;32m----> 2\u001b[0m \u001b[39mtuple\u001b[39;49m[\u001b[39m3\u001b[39;49m] \u001b[39m=\u001b[39m \u001b[39m100\u001b[39m \u001b[39m# エラーになる\u001b[39;00m\n\u001b[1;32m      3\u001b[0m \u001b[39mtuple\u001b[39m\u001b[39m.\u001b[39mappend(\u001b[39m100\u001b[39m) \u001b[39m# エラーになる\u001b[39;00m\n\u001b[1;32m      4\u001b[0m \u001b[39mdel\u001b[39;00m \u001b[39mtuple\u001b[39m[\u001b[39m3\u001b[39m] \u001b[39m# エラーになる\u001b[39;00m\n",
      "\u001b[0;31mTypeError\u001b[0m: 'tuple' object does not support item assignment"
     ]
    }
   ],
   "source": [
    "# 変更できない(immutable)\n",
    "tuple[3] = 100 # エラーになる\n",
    "tuple.append(100) # エラーになる\n",
    "del tuple[3] # エラーになる"
   ]
  },
  {
   "cell_type": "code",
   "execution_count": 15,
   "metadata": {},
   "outputs": [
    {
     "name": "stdout",
     "output_type": "stream",
     "text": [
      "[10, 20, 30, 40, 50, 60, 100]\n",
      "[10, 20, 30, 40, 50, 60, 100, 1000, 2000]\n",
      "[10, 20, 30, 40, 50, 60, 100, 1000, 20, 2000]\n",
      "None\n",
      "[10, 30, 40, 50, 60, 100, 1000, 20, 2000]\n",
      "40\n",
      "[10, 30, 50, 60, 100, 1000, 20, 2000]\n",
      "[]\n"
     ]
    }
   ],
   "source": [
    "l = [10, 20, 30, 40, 50, 60]\n",
    "l.append(100)\n",
    "# l[len(l):] = [100]\n",
    "print(l)\n",
    "\n",
    "l.extend((1000, 2000)) # 複数個の要素を追加できる\n",
    "print(l)\n",
    "\n",
    "l.insert(-1, 20)\n",
    "print(l)\n",
    "\n",
    "print(l.remove(20)) # indexではなくvalueを指定する\n",
    "print(l)\n",
    "\n",
    "print(l.pop(2)) # 引数を指定しない場合、リスト内の最後の要素を削除する\n",
    "print(l)\n",
    "# 削除した値をreturnする\n",
    "\n",
    "l.clear()\n",
    "print(l)"
   ]
  },
  {
   "cell_type": "code",
   "execution_count": 26,
   "metadata": {},
   "outputs": [
    {
     "name": "stdout",
     "output_type": "stream",
     "text": [
      "1\n",
      "3\n",
      "['Z', 'Z', 'Y', 'Y', 'X', 'X', 'X']\n",
      "['X', 'X', 'X', 'Y', 'Y', 'Z', 'Z']\n",
      "['X', 'Y', 'Z', 'Z', 'X', 'Y', 'X']\n"
     ]
    }
   ],
   "source": [
    "l = [\"X\", \"Y\", \"Z\", \"Z\", \"X\", \"Y\", \"X\"]\n",
    "copy_l = l.copy()\n",
    "\n",
    "print(l.index(\"Y\", 0, 3)) # 見つけた値の最初の位置を返す\n",
    "print(l.count(\"X\"))\n",
    "l.sort(reverse=True)\n",
    "print(l)\n",
    "l.reverse()\n",
    "print(l)\n",
    "print(copy_l)"
   ]
  },
  {
   "cell_type": "code",
   "execution_count": 27,
   "metadata": {},
   "outputs": [
    {
     "name": "stdout",
     "output_type": "stream",
     "text": [
      "[10, 'X', 2.5, True]\n"
     ]
    },
    {
     "ename": "TypeError",
     "evalue": "'<' not supported between instances of 'str' and 'int'",
     "output_type": "error",
     "traceback": [
      "\u001b[0;31m---------------------------------------------------------------------------\u001b[0m",
      "\u001b[0;31mTypeError\u001b[0m                                 Traceback (most recent call last)",
      "Cell \u001b[0;32mIn[27], line 4\u001b[0m\n\u001b[1;32m      1\u001b[0m l \u001b[39m=\u001b[39m [\u001b[39m10\u001b[39m, \u001b[39m\"\u001b[39m\u001b[39mX\u001b[39m\u001b[39m\"\u001b[39m, \u001b[39m2.5\u001b[39m, \u001b[39mTrue\u001b[39;00m]\n\u001b[1;32m      3\u001b[0m \u001b[39mprint\u001b[39m(l)\n\u001b[0;32m----> 4\u001b[0m l\u001b[39m.\u001b[39;49msort()\n\u001b[1;32m      5\u001b[0m \u001b[39mprint\u001b[39m(l)\n",
      "\u001b[0;31mTypeError\u001b[0m: '<' not supported between instances of 'str' and 'int'"
     ]
    }
   ],
   "source": [
    "l = [10, \"X\", 2.5, True]\n",
    "\n",
    "print(l)\n",
    "# l.sort() # データ型が異なるものはsortできない\n",
    "# print(l)"
   ]
  },
  {
   "cell_type": "code",
   "execution_count": 29,
   "metadata": {},
   "outputs": [
    {
     "name": "stdout",
     "output_type": "stream",
     "text": [
      "[10, 20, 30]\n",
      "30\n",
      "20\n",
      "10\n",
      "[]\n"
     ]
    },
    {
     "ename": "IndexError",
     "evalue": "pop from empty list",
     "output_type": "error",
     "traceback": [
      "\u001b[0;31m---------------------------------------------------------------------------\u001b[0m",
      "\u001b[0;31mIndexError\u001b[0m                                Traceback (most recent call last)",
      "Cell \u001b[0;32mIn[29], line 12\u001b[0m\n\u001b[1;32m     10\u001b[0m \u001b[39mprint\u001b[39m(stack\u001b[39m.\u001b[39mpop())\n\u001b[1;32m     11\u001b[0m \u001b[39mprint\u001b[39m(stack)\n\u001b[0;32m---> 12\u001b[0m \u001b[39mprint\u001b[39m(stack\u001b[39m.\u001b[39;49mpop())\n",
      "\u001b[0;31mIndexError\u001b[0m: pop from empty list"
     ]
    }
   ],
   "source": [
    "stack = []\n",
    "# stack\n",
    "stack.append(10)\n",
    "stack.append(20)\n",
    "stack.append(30)\n",
    "print(stack)\n",
    "# pop\n",
    "print(stack.pop())\n",
    "print(stack.pop())\n",
    "print(stack.pop())\n",
    "print(stack)\n",
    "print(stack.pop())"
   ]
  },
  {
   "cell_type": "code",
   "execution_count": 35,
   "metadata": {},
   "outputs": [
    {
     "name": "stdout",
     "output_type": "stream",
     "text": [
      "deque([10, 20, 30])\n",
      "10\n",
      "30\n",
      "deque([20])\n"
     ]
    }
   ],
   "source": [
    "# import collections\n",
    "from collections import deque\n",
    "\n",
    "deque = deque()\n",
    "deque.append(10)\n",
    "deque.append(20)\n",
    "deque.append(30)\n",
    "print(deque)\n",
    "print(deque.popleft()) # 先頭から取り出す\n",
    "print(deque.pop()) # 末尾から取り出す\n",
    "print(deque)"
   ]
  },
  {
   "cell_type": "code",
   "execution_count": 36,
   "metadata": {},
   "outputs": [
    {
     "name": "stdout",
     "output_type": "stream",
     "text": [
      "10\n",
      "[20, 30]\n"
     ]
    }
   ],
   "source": [
    "l = [10, 20, 30]\n",
    "print(l.pop(0)) # popleftと同じ処理を実施\n",
    "print(l)"
   ]
  },
  {
   "cell_type": "code",
   "execution_count": 40,
   "metadata": {},
   "outputs": [
    {
     "name": "stdout",
     "output_type": "stream",
     "text": [
      "[0, 1, 4, 9, 16, 25, 36, 49, 64, 81]\n",
      "9\n"
     ]
    }
   ],
   "source": [
    "# リストの内包表記\n",
    "# リスト内でループを実行した結果をリストに展開する\n",
    "squares = []\n",
    "for x in range(10):\n",
    "    squares.append(x**2)\n",
    "print(squares)\n",
    "# print(x) "
   ]
  },
  {
   "cell_type": "code",
   "execution_count": 43,
   "metadata": {},
   "outputs": [
    {
     "name": "stdout",
     "output_type": "stream",
     "text": [
      "[0, 1, 4, 9, 16, 25, 36, 49, 64, 81]\n"
     ]
    }
   ],
   "source": [
    "# def squares(x):\n",
    "#     return x**2\n",
    "squares = list(map(lambda x: x**2, range(10)))\n",
    "print(squares)"
   ]
  },
  {
   "cell_type": "code",
   "execution_count": 44,
   "metadata": {},
   "outputs": [
    {
     "name": "stdout",
     "output_type": "stream",
     "text": [
      "[0, 1, 4, 9, 16, 25, 36, 49, 64, 81]\n"
     ]
    }
   ],
   "source": [
    "squares = [x**2 for x in range(10)]\n",
    "print(squares)"
   ]
  },
  {
   "cell_type": "code",
   "execution_count": 5,
   "metadata": {},
   "outputs": [
    {
     "name": "stdout",
     "output_type": "stream",
     "text": [
      "[1, 2, 3, 4, 5, 6, 7, 8, 9, 10]\n"
     ]
    }
   ],
   "source": [
    "# 1～10のリストを作る\n",
    "# l = [1, 2, 3, 4, 5, 6, 7, 8, 9, 10]\n",
    "\n",
    "# l = []\n",
    "# i = 1\n",
    "# for i in range(1, 11):\n",
    "#     l.append(i)\n",
    "l = [i for i in range(1, 11)]\n",
    "print(l)\n",
    "print(list(range(1, 11)))"
   ]
  },
  {
   "cell_type": "code",
   "execution_count": 11,
   "metadata": {},
   "outputs": [
    {
     "name": "stdout",
     "output_type": "stream",
     "text": [
      "[10, 20, 30, 40, 50, 60, 70, 80, 90, 100]\n",
      "[10, 20, 30, 40, 50, 60, 70, 80, 90, 100]\n",
      "[10, 20, 30, 40, 50, 60, 70, 80, 90, 100]\n"
     ]
    }
   ],
   "source": [
    "# 10～100\n",
    "l = [i for i in range(10, 101, 10)]\n",
    "print(l)\n",
    "print(list(range(10, 101, 10)))\n",
    "print([i * 10 for i in range(1, 11)])"
   ]
  },
  {
   "cell_type": "code",
   "execution_count": 13,
   "metadata": {},
   "outputs": [
    {
     "name": "stdout",
     "output_type": "stream",
     "text": [
      "[10, 20, 30, 40, 60, 70, 80, 90, 100]\n",
      "[10, 20, 30, 40, 60, 70, 80, 90, 100]\n"
     ]
    }
   ],
   "source": [
    "# 10～100 ただし50を除く\n",
    "print([i * 10 for i in range(1, 11) if i != 5])\n",
    "\n",
    "# l = []\n",
    "# for i in range(1, 11):\n",
    "#     if i != 5:\n",
    "#         l.append(i * 10)\n",
    "# print(l)"
   ]
  },
  {
   "cell_type": "code",
   "execution_count": 19,
   "metadata": {},
   "outputs": [
    {
     "name": "stdout",
     "output_type": "stream",
     "text": [
      "[(1, 3), (1, 4), (3, 1), (3, 4)]\n",
      "[(1, 3), (1, 4), (3, 1), (3, 4)]\n"
     ]
    }
   ],
   "source": [
    "# 入れ子ループ\n",
    "l = []\n",
    "for x in [1, 2, 3]:\n",
    "    if x % 2 !=0:\n",
    "        for y in [3, 1, 4]:\n",
    "            if x != y:\n",
    "                l.append((x, y))\n",
    "print(l)\n",
    "\n",
    "print([(x, y) for x in  [1, 2, 3] if x % 2 != 0 for y in [3, 1, 4] if x != y])"
   ]
  },
  {
   "cell_type": "code",
   "execution_count": 29,
   "metadata": {},
   "outputs": [
    {
     "name": "stdout",
     "output_type": "stream",
     "text": [
      "['A', 'B', 'C', 'D', 'E', 'F', 'G', 'H', 'I', 'J', 'K', 'L', 'M', 'N', 'O', 'P', 'Q', 'R', 'S', 'T', 'U', 'V', 'W', 'X', 'Y', 'Z']\n",
      "['a', 'b', 'c', 'd', 'e', 'f', 'g', 'h', 'i', 'j', 'k', 'l', 'm', 'n', 'o', 'p', 'q', 'r', 's', 't', 'u', 'v', 'w', 'x', 'y', 'z']\n"
     ]
    }
   ],
   "source": [
    "# [A, B, C, ... Z]\n",
    "\n",
    "# print(ord(\"A\")) # 65\n",
    "# print(ord(\"B\")) # 66\n",
    "# print(ord(\"Z\")) # 90\n",
    "\n",
    "# print(chr(65)) # \"A\"\n",
    "# print(chr(66)) # \"B\"\n",
    "# print(chr(90)) # \"Z\"\n",
    "\n",
    "print([chr(i) for i in range(65, 91)])\n",
    "print([chr(i) for i in range(ord(\"a\"), ord(\"z\")+1)])"
   ]
  },
  {
   "cell_type": "code",
   "execution_count": 46,
   "metadata": {},
   "outputs": [
    {
     "name": "stdout",
     "output_type": "stream",
     "text": [
      "{0, 1, 2, 3, 4, 5, 6, 7, 8, 9}\n",
      "{0: 0, 1: 1, 2: 2, 3: 3, 4: 4, 5: 5, 6: 6, 7: 7, 8: 8, 9: 9, 10: 0, 11: 1, 12: 2, 13: 3, 14: 4, 15: 5, 16: 6, 17: 7, 18: 8, 19: 9}\n",
      "{0: 0, 1: 1, 2: 2, 3: 3, 4: 4, 5: 5, 6: 6, 7: 7, 8: 8, 9: 9, 10: 0, 11: 1, 12: 2, 13: 3, 14: 4, 15: 5, 16: 6, 17: 7, 18: 8, 19: 9}\n"
     ]
    }
   ],
   "source": [
    "# t = tuple(x % 10 for x in range(20))\n",
    "# print(t)\n",
    "s = {x % 10 for x in range(20)}\n",
    "print(s)\n",
    "d = dict((x, x % 10) for x in range(20))\n",
    "print(d)\n",
    "d = {x: x % 10 for x in range(20)}\n",
    "print(d)"
   ]
  },
  {
   "cell_type": "code",
   "execution_count": 51,
   "metadata": {},
   "outputs": [
    {
     "name": "stdout",
     "output_type": "stream",
     "text": [
      "{'apple': 100, 'banana': 200, 'orange': 300}\n",
      "{'apple': 100, 'banana': 200, 'orange': 300}\n",
      "{'apple': 100, 'banana': 200, 'orange': 300}\n"
     ]
    }
   ],
   "source": [
    "keys = [\"apple\", \"banana\", \"orange\"]\n",
    "values = [100, 200, 300]\n",
    "d = {}\n",
    "for k, v in zip(keys, values):\n",
    "    d[k] = v\n",
    "print(d)\n",
    "\n",
    "print({k: v for k, v in zip(keys, values)})\n",
    "print(dict(zip(keys, values)))"
   ]
  },
  {
   "cell_type": "code",
   "execution_count": 64,
   "metadata": {},
   "outputs": [
    {
     "name": "stdout",
     "output_type": "stream",
     "text": [
      "{'apple': 100, 'banana': 200, 'orange': 300}\n",
      "apple\n",
      "100\n",
      "banana\n",
      "200\n",
      "orange\n",
      "300\n",
      "apple 100\n",
      "banana 200\n",
      "orange 300\n",
      "dict_keys(['apple', 'banana', 'orange'])\n",
      "dict_values([100, 200, 300])\n",
      "dict_items([('apple', 100), ('banana', 200), ('orange', 300)])\n",
      "0 apple\n",
      "1 banana\n",
      "2 orange\n"
     ]
    }
   ],
   "source": [
    "print(d)\n",
    "for x in d:\n",
    "    print(x) # keyのみ\n",
    "    print(d[x]) # valueのみ\n",
    "for k, v in d.items():\n",
    "    print(k, v) # key, value\n",
    "print(d.keys())\n",
    "print(d.values())\n",
    "print(d.items())\n",
    "for i, x in enumerate(d):\n",
    "    print(i, x) # index, key"
   ]
  },
  {
   "cell_type": "code",
   "execution_count": 62,
   "metadata": {},
   "outputs": [
    {
     "name": "stdout",
     "output_type": "stream",
     "text": [
      "9 8 7 6 5 4 3 2 1 "
     ]
    }
   ],
   "source": [
    "for i in reversed(range(1, 10)):\n",
    "    print(i, end=\" \")"
   ]
  },
  {
   "cell_type": "code",
   "execution_count": 66,
   "metadata": {},
   "outputs": [
    {
     "name": "stdout",
     "output_type": "stream",
     "text": [
      "apple\n",
      "banana\n",
      "grape\n",
      "orange\n",
      "['apple', 'banana', 'grape', 'orange']\n"
     ]
    }
   ],
   "source": [
    "basket = ['apple', 'orange', 'apple', 'apple', 'grape', 'orange', 'banana']\n",
    "for f in sorted(set(basket)):\n",
    "    print(f)\n",
    "\n",
    "print(list(sorted(set(basket))))"
   ]
  }
 ],
 "metadata": {
  "kernelspec": {
   "display_name": ".venv",
   "language": "python",
   "name": "python3"
  },
  "language_info": {
   "codemirror_mode": {
    "name": "ipython",
    "version": 3
   },
   "file_extension": ".py",
   "mimetype": "text/x-python",
   "name": "python",
   "nbconvert_exporter": "python",
   "pygments_lexer": "ipython3",
   "version": "3.10.4"
  },
  "orig_nbformat": 4,
  "vscode": {
   "interpreter": {
    "hash": "85fe8e32384d0cfd58cfb4eb571d6516f832225e443b7357734be77b01a87cc9"
   }
  }
 },
 "nbformat": 4,
 "nbformat_minor": 2
}

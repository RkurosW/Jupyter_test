{
 "cells": [
  {
   "attachments": {},
   "cell_type": "markdown",
   "metadata": {},
   "source": [
    "# Pythonのリスト型"
   ]
  },
  {
   "cell_type": "code",
   "execution_count": 24,
   "metadata": {},
   "outputs": [
    {
     "name": "stdout",
     "output_type": "stream",
     "text": [
      "[10, 20, 30, 40, 50, 60]\n"
     ]
    }
   ],
   "source": [
    "list = [10, 20, 30, 40, 50, 60]\n",
    "print(list)"
   ]
  },
  {
   "cell_type": "code",
   "execution_count": 25,
   "metadata": {},
   "outputs": [
    {
     "name": "stdout",
     "output_type": "stream",
     "text": [
      "10\n",
      "60\n",
      "[20, 30, 40, 50]\n",
      "[]\n"
     ]
    }
   ],
   "source": [
    "# 要素を取り出す\n",
    "print(list[0]) # 前から1番目\n",
    "print(list[-1]) # 後ろから1番目\n",
    "print(list[1:5]) # スライス\n",
    "print(list[10:]) # スライス"
   ]
  },
  {
   "cell_type": "code",
   "execution_count": 26,
   "metadata": {},
   "outputs": [
    {
     "name": "stdout",
     "output_type": "stream",
     "text": [
      "[10, 20, 30, 100, 200, 300]\n"
     ]
    }
   ],
   "source": [
    "# 要素を変更する\n",
    "list[3] = 100\n",
    "list[4:6] = [200, 300]\n",
    "print(list)"
   ]
  },
  {
   "cell_type": "code",
   "execution_count": 27,
   "metadata": {},
   "outputs": [
    {
     "name": "stdout",
     "output_type": "stream",
     "text": [
      "[10, 20, 30, 100, 200, 300, 400]\n",
      "[10, 500, 20, 30, 100, 200, 300, 400]\n"
     ]
    }
   ],
   "source": [
    "# 要素を追加する\n",
    "list.append(400) # 末尾に追加\n",
    "print(list)\n",
    "list.insert(1, 500) # 任意の位置に追加\n",
    "print(list)"
   ]
  },
  {
   "cell_type": "code",
   "execution_count": 28,
   "metadata": {},
   "outputs": [
    {
     "name": "stdout",
     "output_type": "stream",
     "text": [
      "[10, 500, 20, 100, 200, 300, 400]\n",
      "[20, 100, 200, 300, 400]\n",
      "[20, 100, 200, 400]\n"
     ]
    }
   ],
   "source": [
    "# 要素を削除する\n",
    "del list[3] # 任意の位置を削除\n",
    "print(list)\n",
    "del list[0:2] # スライスで削除\n",
    "print(list)\n",
    "list[-2:-1] = [] # 空リストを代入すると削除される\n",
    "print(list)"
   ]
  },
  {
   "cell_type": "code",
   "execution_count": 29,
   "metadata": {},
   "outputs": [
    {
     "name": "stdout",
     "output_type": "stream",
     "text": [
      "4\n"
     ]
    }
   ],
   "source": [
    "# 要素数\n",
    "print(len(list))"
   ]
  },
  {
   "attachments": {},
   "cell_type": "markdown",
   "metadata": {},
   "source": [
    "# Pythonのタプル型"
   ]
  },
  {
   "cell_type": "code",
   "execution_count": 30,
   "metadata": {},
   "outputs": [
    {
     "name": "stdout",
     "output_type": "stream",
     "text": [
      "(10, 20, 30, 40, 50, 60)\n"
     ]
    }
   ],
   "source": [
    "tuple = (10, 20, 30, 40, 50, 60)\n",
    "print(tuple)"
   ]
  },
  {
   "cell_type": "code",
   "execution_count": 32,
   "metadata": {},
   "outputs": [
    {
     "name": "stdout",
     "output_type": "stream",
     "text": [
      "40\n",
      "50\n",
      "(20, 30)\n"
     ]
    }
   ],
   "source": [
    "print(tuple[3])\n",
    "print(tuple[-2])\n",
    "print(tuple[1:3])"
   ]
  },
  {
   "cell_type": "code",
   "execution_count": 35,
   "metadata": {},
   "outputs": [
    {
     "ename": "TypeError",
     "evalue": "'tuple' object does not support item assignment",
     "output_type": "error",
     "traceback": [
      "\u001b[0;31m---------------------------------------------------------------------------\u001b[0m",
      "\u001b[0;31mTypeError\u001b[0m                                 Traceback (most recent call last)",
      "Cell \u001b[0;32mIn[35], line 2\u001b[0m\n\u001b[1;32m      1\u001b[0m \u001b[39m# 変更できない(immutable)\u001b[39;00m\n\u001b[0;32m----> 2\u001b[0m \u001b[39mtuple\u001b[39;49m[\u001b[39m3\u001b[39;49m] \u001b[39m=\u001b[39m \u001b[39m100\u001b[39m \u001b[39m# エラーになる\u001b[39;00m\n\u001b[1;32m      3\u001b[0m \u001b[39mtuple\u001b[39m\u001b[39m.\u001b[39mappend(\u001b[39m100\u001b[39m) \u001b[39m# エラーになる\u001b[39;00m\n\u001b[1;32m      4\u001b[0m \u001b[39mdel\u001b[39;00m \u001b[39mtuple\u001b[39m[\u001b[39m3\u001b[39m] \u001b[39m# エラーになる\u001b[39;00m\n",
      "\u001b[0;31mTypeError\u001b[0m: 'tuple' object does not support item assignment"
     ]
    }
   ],
   "source": [
    "# 変更できない(immutable)\n",
    "tuple[3] = 100 # エラーになる\n",
    "tuple.append(100) # エラーになる\n",
    "del tuple[3] # エラーになる"
   ]
  }
 ],
 "metadata": {
  "kernelspec": {
   "display_name": ".venv",
   "language": "python",
   "name": "python3"
  },
  "language_info": {
   "codemirror_mode": {
    "name": "ipython",
    "version": 3
   },
   "file_extension": ".py",
   "mimetype": "text/x-python",
   "name": "python",
   "nbconvert_exporter": "python",
   "pygments_lexer": "ipython3",
   "version": "3.10.4 (main, Feb  1 2023, 11:15:47) [GCC 11.3.0]"
  },
  "orig_nbformat": 4,
  "vscode": {
   "interpreter": {
    "hash": "85fe8e32384d0cfd58cfb4eb571d6516f832225e443b7357734be77b01a87cc9"
   }
  }
 },
 "nbformat": 4,
 "nbformat_minor": 2
}

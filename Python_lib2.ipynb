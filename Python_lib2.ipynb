{
 "cells": [
  {
   "cell_type": "code",
   "execution_count": null,
   "metadata": {},
   "outputs": [],
   "source": [
    "import reprlib\n",
    "s = set('supercalifragilisticexpialidocious')\n",
    "print(s) # 重複は排除されて表示される\n",
    "\n",
    "print(reprlib.repr(s)) # 省略された文字列を返す"
   ]
  },
  {
   "cell_type": "code",
   "execution_count": null,
   "metadata": {},
   "outputs": [],
   "source": [
    "import pprint\n",
    "t = [[[['black', 'cyan'], 'white', ['green', 'red']], [['magenta', 'yellow'], 'blue']]]\n",
    "\n",
    "print(t)\n",
    "pprint.pprint(t, width=30)"
   ]
  },
  {
   "cell_type": "code",
   "execution_count": null,
   "metadata": {},
   "outputs": [],
   "source": [
    "import textwrap\n",
    "doc = \"\"\"pprint モジュールは、組み込み型やユーザ定義型をわかりやすく表示するための洗練された制御手段を提供しています。表示結果が複数行にわたる場合は、 \"pretty printer\" と呼ばれるものが改行やインデントを追加して、データ構造がより明確になるように印字します:\n",
    "\"\"\"\n",
    "print(textwrap.fill(doc, width=50))"
   ]
  },
  {
   "cell_type": "code",
   "execution_count": null,
   "metadata": {},
   "outputs": [],
   "source": [
    "import locale\n",
    "locale.setlocale(locale.LC_ALL, 'ja_JP.utf8')\n",
    "conv = locale.localeconv()\n",
    "x = 1234567.8\n",
    "print(locale.format_string(\"%s%.*f\", (conv['currency_symbol'], conv['frac_digits'], x), grouping=True))\n",
    "jp = conv\n",
    "# jp = pprint.PrettyPrinter(width=40, compact=True)"
   ]
  },
  {
   "cell_type": "code",
   "execution_count": null,
   "metadata": {},
   "outputs": [],
   "source": [
    "import locale\n",
    "locale.setlocale(locale.LC_ALL, 'en_US.utf8')\n",
    "conv = locale.localeconv()\n",
    "x = 1234567.8\n",
    "print(locale.format_string(\"%s%.*f\", (conv['currency_symbol'], conv['frac_digits'], x), grouping=True))\n",
    "en = conv\n",
    "# en = pprint.PrettyPrinter(width=40, compact=True)"
   ]
  },
  {
   "cell_type": "code",
   "execution_count": 4,
   "metadata": {},
   "outputs": [
    {
     "name": "stdout",
     "output_type": "stream",
     "text": [
      "Nortinghamfolk send $10 to the ditch fund\n",
      "${village}folk send $10 to the ditch fund\n",
      "Nortinghamfolk send $10 to the ditch fund\n"
     ]
    }
   ],
   "source": [
    "from string import Template\n",
    "t =Template('${village}folk send $$10 to $cause')\n",
    "print(t.substitute(village='Nortingham', cause='the ditch fund'))\n",
    "# print(t.substitute(cause='the ditch fund')) # 引数が不足してるためエラー\n",
    "print(t.safe_substitute(cause='the ditch fund')) # 引数が不足しているとこはそのまま表示する\n",
    "\n",
    "d = {'village':'Nortingham', 'cause':'the ditch fund'}\n",
    "print(t.substitute(d))"
   ]
  },
  {
   "cell_type": "code",
   "execution_count": 10,
   "metadata": {},
   "outputs": [
    {
     "name": "stdout",
     "output_type": "stream",
     "text": [
      "Hello, Sam! Goodbye, Sam!\n",
      "Hello, Sam!\n",
      "Hello, Sam! Goodbye, Sam!\n",
      "Hello, Sam! Goodbye, Sam!\n"
     ]
    }
   ],
   "source": [
    "myname = 'Sam'\n",
    "t = Template('Hello, $name! Goodbye, $name!')\n",
    "print(t.substitute(name=myname))\n",
    "\n",
    "print(f'Hello, {myname}!') # f-string\n",
    "\n",
    "print('Hello, {}! Goodbye, {}!'.format(myname, myname)) # format\n",
    "\n",
    "print('Hello, %s! Goodbye, %s!' % (myname, myname)) # % format (sは文字列を指す)"
   ]
  },
  {
   "cell_type": "code",
   "execution_count": null,
   "metadata": {},
   "outputs": [],
   "source": [
    "import logging\n",
    "logging.debug('debug message')"
   ]
  },
  {
   "cell_type": "code",
   "execution_count": 4,
   "metadata": {},
   "outputs": [
    {
     "name": "stdout",
     "output_type": "stream",
     "text": [
      "3000.0000000003583\n"
     ]
    }
   ],
   "source": [
    "# 2進浮動小数(float)だと誤差が発生する\n",
    "sum = 0\n",
    "for i in range(10000):\n",
    "    sum += (0.1 + 0.2)\n",
    "print(sum)"
   ]
  },
  {
   "cell_type": "code",
   "execution_count": 5,
   "metadata": {},
   "outputs": [
    {
     "name": "stdout",
     "output_type": "stream",
     "text": [
      "3000.0\n"
     ]
    }
   ],
   "source": [
    "# 10進浮動小数(decimal)なら誤差は発生しない\n",
    "from decimal import Decimal\n",
    "sum = Decimal(0)\n",
    "for i in range(10000):\n",
    "    sum += Decimal('0.1') + Decimal('0.2') # ''をつけないと2進表現で渡すので注意\n",
    "print(sum)"
   ]
  }
 ],
 "metadata": {
  "kernelspec": {
   "display_name": ".venv",
   "language": "python",
   "name": "python3"
  },
  "language_info": {
   "codemirror_mode": {
    "name": "ipython",
    "version": 3
   },
   "file_extension": ".py",
   "mimetype": "text/x-python",
   "name": "python",
   "nbconvert_exporter": "python",
   "pygments_lexer": "ipython3",
   "version": "3.10.4"
  },
  "orig_nbformat": 4,
  "vscode": {
   "interpreter": {
    "hash": "85fe8e32384d0cfd58cfb4eb571d6516f832225e443b7357734be77b01a87cc9"
   }
  }
 },
 "nbformat": 4,
 "nbformat_minor": 2
}

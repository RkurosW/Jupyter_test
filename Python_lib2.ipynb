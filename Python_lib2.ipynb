{
 "cells": [
  {
   "cell_type": "code",
   "execution_count": null,
   "metadata": {},
   "outputs": [],
   "source": [
    "import reprlib\n",
    "s = set('supercalifragilisticexpialidocious')\n",
    "print(s) # 重複は排除されて表示される\n",
    "\n",
    "print(reprlib.repr(s)) # 省略された文字列を返す"
   ]
  },
  {
   "cell_type": "code",
   "execution_count": null,
   "metadata": {},
   "outputs": [],
   "source": [
    "import pprint\n",
    "t = [[[['black', 'cyan'], 'white', ['green', 'red']], [['magenta', 'yellow'], 'blue']]]\n",
    "\n",
    "print(t)\n",
    "pprint.pprint(t, width=30)"
   ]
  },
  {
   "cell_type": "code",
   "execution_count": null,
   "metadata": {},
   "outputs": [],
   "source": [
    "import textwrap\n",
    "doc = \"\"\"pprint モジュールは、組み込み型やユーザ定義型をわかりやすく表示するための洗練された制御手段を提供しています。表示結果が複数行にわたる場合は、 \"pretty printer\" と呼ばれるものが改行やインデントを追加して、データ構造がより明確になるように印字します:\n",
    "\"\"\"\n",
    "print(textwrap.fill(doc, width=50))"
   ]
  },
  {
   "cell_type": "code",
   "execution_count": null,
   "metadata": {},
   "outputs": [],
   "source": [
    "import locale\n",
    "locale.setlocale(locale.LC_ALL, 'ja_JP.utf8')\n",
    "conv = locale.localeconv()\n",
    "x = 1234567.8\n",
    "print(locale.format_string(\"%s%.*f\", (conv['currency_symbol'], conv['frac_digits'], x), grouping=True))\n",
    "jp = conv\n",
    "# jp = pprint.PrettyPrinter(width=40, compact=True)"
   ]
  },
  {
   "cell_type": "code",
   "execution_count": null,
   "metadata": {},
   "outputs": [],
   "source": [
    "import locale\n",
    "locale.setlocale(locale.LC_ALL, 'en_US.utf8')\n",
    "conv = locale.localeconv()\n",
    "x = 1234567.8\n",
    "print(locale.format_string(\"%s%.*f\", (conv['currency_symbol'], conv['frac_digits'], x), grouping=True))\n",
    "en = conv\n",
    "# en = pprint.PrettyPrinter(width=40, compact=True)"
   ]
  },
  {
   "cell_type": "code",
   "execution_count": null,
   "metadata": {},
   "outputs": [],
   "source": []
  }
 ],
 "metadata": {
  "kernelspec": {
   "display_name": ".venv",
   "language": "python",
   "name": "python3"
  },
  "language_info": {
   "codemirror_mode": {
    "name": "ipython",
    "version": 3
   },
   "file_extension": ".py",
   "mimetype": "text/x-python",
   "name": "python",
   "nbconvert_exporter": "python",
   "pygments_lexer": "ipython3",
   "version": "3.10.4"
  },
  "orig_nbformat": 4,
  "vscode": {
   "interpreter": {
    "hash": "85fe8e32384d0cfd58cfb4eb571d6516f832225e443b7357734be77b01a87cc9"
   }
  }
 },
 "nbformat": 4,
 "nbformat_minor": 2
}

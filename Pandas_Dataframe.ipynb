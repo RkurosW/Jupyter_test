{
 "cells": [
  {
   "cell_type": "code",
   "execution_count": 13,
   "metadata": {},
   "outputs": [],
   "source": [
    "# csvファイルを作成\n",
    "\n",
    "import csv\n",
    "data_list = []\n",
    "for i in range(1, 5):\n",
    "    data = [h + str(i) for h in \"ABCD\"]\n",
    "    data_list.append(data)\n",
    "\n",
    "with open(\"test.csv\", mode='w', encoding='utf-8') as f:\n",
    "    csv_writer = csv.writer(f, lineterminator='\\n')\n",
    "    csv_writer.writerows(data_list)"
   ]
  },
  {
   "cell_type": "code",
   "execution_count": 14,
   "metadata": {},
   "outputs": [
    {
     "name": "stdout",
     "output_type": "stream",
     "text": [
      "    0   1   2   3\n",
      "0  A1  B1  C1  D1\n",
      "1  A2  B2  C2  D2\n",
      "2  A3  B3  C3  D3\n",
      "3  A4  B4  C4  D4 <class 'pandas.core.frame.DataFrame'>\n"
     ]
    }
   ],
   "source": [
    "# csv読込\n",
    "import pandas as pd\n",
    "df = pd.read_csv('test.csv', header=None)\n",
    "print(df, type(df))"
   ]
  },
  {
   "cell_type": "code",
   "execution_count": 15,
   "metadata": {},
   "outputs": [
    {
     "name": "stdout",
     "output_type": "stream",
     "text": [
      "[['A1' 'B1' 'C1' 'D1']\n",
      " ['A2' 'B2' 'C2' 'D2']\n",
      " ['A3' 'B3' 'C3' 'D3']\n",
      " ['A4' 'B4' 'C4' 'D4']] <class 'numpy.ndarray'>\n",
      "RangeIndex(start=0, stop=4, step=1) <class 'pandas.core.indexes.range.RangeIndex'>\n",
      "Int64Index([0, 1, 2, 3], dtype='int64') <class 'pandas.core.indexes.numeric.Int64Index'>\n"
     ]
    }
   ],
   "source": [
    "print(df.values, type(df.values))\n",
    "print(df.index, type(df.index))\n",
    "print(df.columns, type(df.columns))"
   ]
  },
  {
   "cell_type": "code",
   "execution_count": 16,
   "metadata": {},
   "outputs": [
    {
     "name": "stdout",
     "output_type": "stream",
     "text": [
      "      col_0 col_1 col_2 col_3\n",
      "row_0    A1    B1    C1    D1\n",
      "row_1    A2    B2    C2    D2\n",
      "row_2    A3    B3    C3    D3\n",
      "row_3    A4    B4    C4    D4\n"
     ]
    }
   ],
   "source": [
    "rows = ['row_0', 'row_1', 'row_2', 'row_3']\n",
    "cols = ['col_0', 'col_1', 'col_2', 'col_3']\n",
    "df.index = rows\n",
    "df.columns = cols\n",
    "print(df)"
   ]
  },
  {
   "cell_type": "code",
   "execution_count": 21,
   "metadata": {},
   "outputs": [
    {
     "name": "stdout",
     "output_type": "stream",
     "text": [
      "         col_0 col_1 col_2 col_3\n",
      "row_name                        \n",
      "row_0       A1    B1    C1    D1\n",
      "row_1       A2    B2    C2    D2\n",
      "row_2       A3    B3    C3    D3\n",
      "row_3       A4    B4    C4    D4\n"
     ]
    }
   ],
   "source": [
    "df2 = pd.read_csv('test_set.csv', encoding='utf-8')\n",
    "df2.set_index('row_name', inplace=True)\n",
    "print(df2)"
   ]
  },
  {
   "cell_type": "code",
   "execution_count": 23,
   "metadata": {},
   "outputs": [
    {
     "name": "stdout",
     "output_type": "stream",
     "text": [
      "  row_name col_0 col_1 col_2 col_3\n",
      "0    row_0    A1    B1    C1    D1\n",
      "1    row_1    A2    B2    C2    D2\n",
      "2    row_2    A3    B3    C3    D3\n",
      "3    row_3    A4    B4    C4    D4\n"
     ]
    }
   ],
   "source": [
    "df2 = df2.reset_index()\n",
    "print(df2)"
   ]
  },
  {
   "cell_type": "code",
   "execution_count": 31,
   "metadata": {},
   "outputs": [
    {
     "name": "stdout",
     "output_type": "stream",
     "text": [
      "index 行名\n",
      "Index(['row_0', 'row_1', 'row_2', 'row_3'], dtype='object')\n",
      "columns 列名\n",
      "Index(['col_0', 'col_1', 'col_2', 'col_3'], dtype='object')\n",
      "len() 行数\n",
      "4\n",
      "len(columns) 列数\n",
      "4\n",
      "shape 行列数\n",
      "(4, 4)\n",
      "size 要素数\n",
      "16\n",
      "memory_usage() メモリ使用量\n",
      "Index    32\n",
      "col_0    32\n",
      "col_1    32\n",
      "col_2    32\n",
      "col_3    32\n",
      "dtype: int64\n"
     ]
    }
   ],
   "source": [
    "print(\"index 行名\\n{0}\".format(df.index))\n",
    "print(\"columns 列名\\n{0}\".format(df.columns))\n",
    "print(\"len() 行数\\n{0}\".format(len(df)))\n",
    "print(\"len(columns) 列数\\n{0}\".format(len(df.columns)))\n",
    "print(\"shape 行列数\\n{0}\".format(df.shape))\n",
    "print(\"size 要素数\\n{0}\".format(df.size))\n",
    "print(\"memory_usage() メモリ使用量\\n{0}\".format(df.memory_usage()))"
   ]
  },
  {
   "cell_type": "code",
   "execution_count": 35,
   "metadata": {},
   "outputs": [
    {
     "name": "stdout",
     "output_type": "stream",
     "text": [
      "      col_0 col_1 col_2 col_3\n",
      "row_0    A1    B1    C1    D1\n",
      "row_1    A2    B2    C2    D2\n",
      "row_2    A3    B3    C3    D3\n",
      "row_3    A4    B4    C4    D4\n",
      "C3\n",
      "B2\n",
      "C3\n",
      "B2\n"
     ]
    }
   ],
   "source": [
    "print(df)\n",
    "\n",
    "print(df.at['row_2', 'col_2']) # at(row, col)\n",
    "print(df.loc['row_1', 'col_1']) # loc(row, col)\n",
    "\n",
    "print(df.iat[2, 2]) # iat(row, col)\n",
    "print(df.iloc[1, 1]) # iloc(row, col)"
   ]
  },
  {
   "cell_type": "code",
   "execution_count": 47,
   "metadata": {},
   "outputs": [
    {
     "name": "stdout",
     "output_type": "stream",
     "text": [
      "row_0    A1\n",
      "row_1    A2\n",
      "row_2    A3\n",
      "row_3    A4\n",
      "Name: col_0, dtype: object\n",
      "col_0    A4\n",
      "col_1    B4\n",
      "col_2    C4\n",
      "col_3    D4\n",
      "Name: row_3, dtype: object\n",
      "      col_1 col_2 col_3\n",
      "row_1    B2    C2    D2\n",
      "row_2    B3    C3    D3\n",
      "      col_1 col_2\n",
      "row_1    B2    C2\n",
      "row_2    B3    C3\n"
     ]
    }
   ],
   "source": [
    "print(df.loc[:, 'col_0'])\n",
    "print(df.loc['row_3', :])\n",
    "\n",
    "print(df.loc[['row_1', 'row_2'], 'col_1':'col_3'])\n",
    "print(df.iloc[1:3, 1:3])"
   ]
  },
  {
   "cell_type": "code",
   "execution_count": 50,
   "metadata": {},
   "outputs": [
    {
     "name": "stdout",
     "output_type": "stream",
     "text": [
      "col_0    A3\n",
      "col_1    B3\n",
      "col_2    C3\n",
      "col_3    D3\n",
      "Name: row_2, dtype: object <class 'pandas.core.series.Series'>\n",
      "row_0    C1\n",
      "row_1    C2\n",
      "row_2    C3\n",
      "row_3    C4\n",
      "Name: col_2, dtype: object <class 'pandas.core.series.Series'>\n",
      "      col_1 col_2\n",
      "row_0    B1    C1\n",
      "row_1    B2    C2\n",
      "row_2    B3    C3\n",
      "row_3    B4    C4 <class 'pandas.core.frame.DataFrame'>\n"
     ]
    }
   ],
   "source": [
    "print(df.iloc[2], type(df.iloc[2]))\n",
    "print(df.iloc[:, 2], type(df.iloc[:, 2]))\n",
    "print(df.iloc[:, 1:3], type(df.iloc[:, 1:3]))"
   ]
  },
  {
   "cell_type": "code",
   "execution_count": 54,
   "metadata": {},
   "outputs": [
    {
     "name": "stdout",
     "output_type": "stream",
     "text": [
      "      col_0 col_1 col_2 col_3\n",
      "row_0    A1    Y8    C1    D1\n",
      "row_1    A2    Y8    Z6    D2\n",
      "row_2    W5    W6    Z7    D3\n",
      "row_3    W7    W8    C4    X9\n"
     ]
    }
   ],
   "source": [
    "df.at['row_3', 'col_3'] = \"X9\"\n",
    "df.loc[['row_0', 'row_1'], 'col_1'] = \"Y8\"\n",
    "df.loc[['row_1', 'row_2'], 'col_2'] = [\"Z6\", \"Z7\"]\n",
    "df.loc[['row_2', 'row_3'], ['col_0', 'col_1']] = [[\"W5\", \"W6\"], [\"W7\", \"W8\"]]\n",
    "print(df)"
   ]
  },
  {
   "cell_type": "code",
   "execution_count": 64,
   "metadata": {},
   "outputs": [
    {
     "name": "stdout",
     "output_type": "stream",
     "text": [
      "     name  age\n",
      "id            \n",
      "1   John1   10\n",
      "2   John2   20\n",
      "3   John3   30\n",
      "4   John4   40\n"
     ]
    }
   ],
   "source": [
    "# empty dataframe\n",
    "cols = ['id', 'name', 'age']\n",
    "df = pd.DataFrame(columns = cols)\n",
    "df.set_index('id', inplace=True)\n",
    "# df = df.append({'id': 1, 'name': 'John', 'age': 30}, ignore_index=True)\n",
    "# pd.concat(df, pd.DataFrame({'id': 1, 'name': 'John', 'age': 30}, ignore_index=True))\n",
    "for i in range(1, 5):\n",
    "    df.loc[i] = ['John' + str(i), i*10]   \n",
    "print(df)"
   ]
  },
  {
   "cell_type": "code",
   "execution_count": 72,
   "metadata": {},
   "outputs": [
    {
     "name": "stdout",
     "output_type": "stream",
     "text": [
      "         col_0 col_1 col_2 col_3\n",
      "row_name                        \n",
      "row_0       A1    B1    C1    D1\n",
      "row_1       A2    B2    C2    D2\n",
      "row_2       A3    B3    C3    D3\n",
      "row_3       A4    B4    C4    D4\n",
      "         col_1 col_2 col_3\n",
      "row_name                  \n",
      "row_2       B3    C3    D3\n",
      "         col_1 col_2 col_3\n",
      "row_name                  \n",
      "row_0       B1    C1    D1\n",
      "row_2       B3    C3    D3\n"
     ]
    }
   ],
   "source": [
    "df = pd.read_csv('test_set.csv', encoding='utf-8')\n",
    "df.set_index('row_name', inplace=True)\n",
    "print(df)\n",
    "print(df.loc[df['col_0'].str.endswith('3'), 'col_1':'col_3']) # 条件指定\n",
    "print(df.loc[df['col_0'].isin(['A1', 'A3']), 'col_1':'col_3'])"
   ]
  },
  {
   "cell_type": "code",
   "execution_count": 74,
   "metadata": {},
   "outputs": [
    {
     "data": {
      "text/html": [
       "<div>\n",
       "<style scoped>\n",
       "    .dataframe tbody tr th:only-of-type {\n",
       "        vertical-align: middle;\n",
       "    }\n",
       "\n",
       "    .dataframe tbody tr th {\n",
       "        vertical-align: top;\n",
       "    }\n",
       "\n",
       "    .dataframe thead th {\n",
       "        text-align: right;\n",
       "    }\n",
       "</style>\n",
       "<table border=\"1\" class=\"dataframe\">\n",
       "  <thead>\n",
       "    <tr style=\"text-align: right;\">\n",
       "      <th></th>\n",
       "      <th>Satisfied</th>\n",
       "      <th>Pclass</th>\n",
       "      <th>Sex</th>\n",
       "      <th>Name</th>\n",
       "      <th>Age</th>\n",
       "      <th>SibSp</th>\n",
       "      <th>Parch</th>\n",
       "      <th>Ticket</th>\n",
       "      <th>Fare</th>\n",
       "      <th>Cabin</th>\n",
       "      <th>Embarked</th>\n",
       "    </tr>\n",
       "    <tr>\n",
       "      <th>PassengerId</th>\n",
       "      <th></th>\n",
       "      <th></th>\n",
       "      <th></th>\n",
       "      <th></th>\n",
       "      <th></th>\n",
       "      <th></th>\n",
       "      <th></th>\n",
       "      <th></th>\n",
       "      <th></th>\n",
       "      <th></th>\n",
       "      <th></th>\n",
       "    </tr>\n",
       "  </thead>\n",
       "  <tbody>\n",
       "    <tr>\n",
       "      <th>1</th>\n",
       "      <td>0</td>\n",
       "      <td>3</td>\n",
       "      <td>male</td>\n",
       "      <td>Sato, Mr. Ren</td>\n",
       "      <td>21.0</td>\n",
       "      <td>1</td>\n",
       "      <td>0</td>\n",
       "      <td>A/5 211711</td>\n",
       "      <td>870.000</td>\n",
       "      <td>NaN</td>\n",
       "      <td>Tokyo</td>\n",
       "    </tr>\n",
       "    <tr>\n",
       "      <th>2</th>\n",
       "      <td>1</td>\n",
       "      <td>1</td>\n",
       "      <td>female</td>\n",
       "      <td>Suzuki, Mrs. Himari</td>\n",
       "      <td>37.0</td>\n",
       "      <td>1</td>\n",
       "      <td>0</td>\n",
       "      <td>PC 175991</td>\n",
       "      <td>8553.996</td>\n",
       "      <td>C85</td>\n",
       "      <td>Osaka</td>\n",
       "    </tr>\n",
       "    <tr>\n",
       "      <th>3</th>\n",
       "      <td>1</td>\n",
       "      <td>3</td>\n",
       "      <td>female</td>\n",
       "      <td>Tanaka, Miss. Mei</td>\n",
       "      <td>25.0</td>\n",
       "      <td>0</td>\n",
       "      <td>0</td>\n",
       "      <td>STON/O2. 31012821</td>\n",
       "      <td>951.000</td>\n",
       "      <td>NaN</td>\n",
       "      <td>NaN</td>\n",
       "    </tr>\n",
       "    <tr>\n",
       "      <th>4</th>\n",
       "      <td>1</td>\n",
       "      <td>1</td>\n",
       "      <td>female</td>\n",
       "      <td>Ito, Mrs. Riko</td>\n",
       "      <td>34.0</td>\n",
       "      <td>1</td>\n",
       "      <td>0</td>\n",
       "      <td>227606</td>\n",
       "      <td>6372.000</td>\n",
       "      <td>C123</td>\n",
       "      <td>Tokyo</td>\n",
       "    </tr>\n",
       "    <tr>\n",
       "      <th>5</th>\n",
       "      <td>0</td>\n",
       "      <td>3</td>\n",
       "      <td>male</td>\n",
       "      <td>Takahashi, Mr. Haruto</td>\n",
       "      <td>34.0</td>\n",
       "      <td>0</td>\n",
       "      <td>0</td>\n",
       "      <td>746900</td>\n",
       "      <td>966.000</td>\n",
       "      <td>NaN</td>\n",
       "      <td>Tokyo</td>\n",
       "    </tr>\n",
       "  </tbody>\n",
       "</table>\n",
       "</div>"
      ],
      "text/plain": [
       "             Satisfied  Pclass     Sex                   Name   Age  SibSp  \\\n",
       "PassengerId                                                                  \n",
       "1                    0       3    male          Sato, Mr. Ren  21.0      1   \n",
       "2                    1       1  female    Suzuki, Mrs. Himari  37.0      1   \n",
       "3                    1       3  female      Tanaka, Miss. Mei  25.0      0   \n",
       "4                    1       1  female         Ito, Mrs. Riko  34.0      1   \n",
       "5                    0       3    male  Takahashi, Mr. Haruto  34.0      0   \n",
       "\n",
       "             Parch             Ticket      Fare Cabin Embarked  \n",
       "PassengerId                                                     \n",
       "1                0         A/5 211711   870.000   NaN    Tokyo  \n",
       "2                0          PC 175991  8553.996   C85    Osaka  \n",
       "3                0  STON/O2. 31012821   951.000   NaN      NaN  \n",
       "4                0             227606  6372.000  C123    Tokyo  \n",
       "5                0             746900   966.000   NaN    Tokyo  "
      ]
     },
     "execution_count": 74,
     "metadata": {},
     "output_type": "execute_result"
    }
   ],
   "source": [
    "df = pd.read_csv('pandas_train_mini.csv', index_col=0)\n",
    "df.head()"
   ]
  },
  {
   "cell_type": "code",
   "execution_count": 84,
   "metadata": {},
   "outputs": [
    {
     "name": "stdout",
     "output_type": "stream",
     "text": [
      "             Satisfied  Pclass     Sex                   Name   Age\n",
      "PassengerId                                                        \n",
      "4                    1       1  female         Ito, Mrs. Riko  34.0\n",
      "5                    0       3    male  Takahashi, Mr. Haruto  34.0\n",
      "7                    0       1    male   Yamamoto, Mr. Itsuki  53.0\n",
      "14                   0       3    male  Yamaguchi, Mr. Hiroto  38.0\n",
      "16                   1       2  female     Inoue, Mrs. Kotone  54.0\n",
      "19                   0       3  female        Saito, Mrs.Hina  30.0\n"
     ]
    }
   ],
   "source": [
    "print(df.loc[(df['Embarked']=='Tokyo')&(df['Age'] >= 30), 'Satisfied':'Age'])\n"
   ]
  }
 ],
 "metadata": {
  "kernelspec": {
   "display_name": ".venv",
   "language": "python",
   "name": "python3"
  },
  "language_info": {
   "codemirror_mode": {
    "name": "ipython",
    "version": 3
   },
   "file_extension": ".py",
   "mimetype": "text/x-python",
   "name": "python",
   "nbconvert_exporter": "python",
   "pygments_lexer": "ipython3",
   "version": "3.10.4"
  },
  "orig_nbformat": 4,
  "vscode": {
   "interpreter": {
    "hash": "85fe8e32384d0cfd58cfb4eb571d6516f832225e443b7357734be77b01a87cc9"
   }
  }
 },
 "nbformat": 4,
 "nbformat_minor": 2
}

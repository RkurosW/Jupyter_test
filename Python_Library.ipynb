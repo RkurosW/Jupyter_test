{
 "cells": [
  {
   "attachments": {},
   "cell_type": "markdown",
   "metadata": {},
   "source": [
    "# 標準ライブラリ\n",
    "- インストールは不要\n",
    "- 実行する際はimportが必要"
   ]
  },
  {
   "cell_type": "code",
   "execution_count": 8,
   "metadata": {},
   "outputs": [
    {
     "name": "stdout",
     "output_type": "stream",
     "text": [
      "/home/cybermissions/development/python/jupyter_tast\n",
      "/home/cybermissions/development/python\n",
      "/home/cybermissions/development\n",
      "/home/cybermissions\n",
      "/home\n"
     ]
    }
   ],
   "source": [
    "import os\n",
    "print(os.getcwd())\n",
    "\n",
    "for _ in range(4):\n",
    "    os.chdir(\"..\")\n",
    "    print(os.getcwd())\n",
    "\n",
    "os.chdir('/home/cybermissions/development/python/jupyter_tast')"
   ]
  },
  {
   "cell_type": "code",
   "execution_count": 10,
   "metadata": {},
   "outputs": [
    {
     "data": {
      "text/plain": [
       "'tmp/move.html'"
      ]
     },
     "execution_count": 10,
     "metadata": {},
     "output_type": "execute_result"
    }
   ],
   "source": [
    "import shutil\n",
    "shutil.copyfile('test.html', 'copy.html')\n",
    "shutil.move('test.html', 'tmp/move.html')"
   ]
  },
  {
   "cell_type": "code",
   "execution_count": 11,
   "metadata": {},
   "outputs": [
    {
     "data": {
      "text/plain": [
       "['Error_Irreguler.ipynb',\n",
       " 'Python_Library.ipynb',\n",
       " 'class.ipynb',\n",
       " 'web_scraping.ipynb',\n",
       " 'Python_module.ipynb',\n",
       " 'def_sample.ipynb',\n",
       " 'matplot_sample.ipynb',\n",
       " 'FE_kakomondai.ipynb',\n",
       " 'Python_list.ipynb',\n",
       " 'MeCab.ipynb',\n",
       " 'selenium.ipynb',\n",
       " 'Python_flow.ipynb',\n",
       " 'Scrapy.ipynb',\n",
       " 'data_type.ipynb']"
      ]
     },
     "execution_count": 11,
     "metadata": {},
     "output_type": "execute_result"
    }
   ],
   "source": [
    "import glob\n",
    "glob.glob('*.ipynb')"
   ]
  },
  {
   "cell_type": "code",
   "execution_count": 12,
   "metadata": {},
   "outputs": [
    {
     "name": "stdout",
     "output_type": "stream",
     "text": [
      "['/home/cybermissions/development/python/jupyter_tast/.venv/lib/python3.10/site-packages/ipykernel_launcher.py', '--ip=127.0.0.1', '--stdin=9003', '--control=9001', '--hb=9000', '--Session.signature_scheme=\"hmac-sha256\"', '--Session.key=b\"414d355f-cc94-408f-8589-047ec04fc0f9\"', '--shell=9002', '--transport=\"tcp\"', '--iopub=9004', '--f=/home/cybermissions/.local/share/jupyter/runtime/kernel-v2-23674RsrJnzAThk.json']\n"
     ]
    }
   ],
   "source": [
    "import sys\n",
    "print(sys.argv)"
   ]
  },
  {
   "cell_type": "code",
   "execution_count": 1,
   "metadata": {},
   "outputs": [
    {
     "name": "stderr",
     "output_type": "stream",
     "text": [
      "ログが見つかりませんでした"
     ]
    },
    {
     "data": {
      "text/plain": [
       "13"
      ]
     },
     "execution_count": 1,
     "metadata": {},
     "output_type": "execute_result"
    }
   ],
   "source": [
    "import sys\n",
    "sys.stderr.write(\"ログが見つかりませんでした\")"
   ]
  },
  {
   "cell_type": "code",
   "execution_count": 2,
   "metadata": {},
   "outputs": [
    {
     "data": {
      "text/plain": [
       "['foot', 'fell', 'fastest']"
      ]
     },
     "execution_count": 2,
     "metadata": {},
     "output_type": "execute_result"
    }
   ],
   "source": [
    "import re\n",
    "re.findall(r'\\bf[a-z]*', 'whici foot or hand fell fastest') # (r'検索パターン', '検索対象')"
   ]
  },
  {
   "cell_type": "code",
   "execution_count": 3,
   "metadata": {},
   "outputs": [
    {
     "data": {
      "text/plain": [
       "'cat in the hat'"
      ]
     },
     "execution_count": 3,
     "metadata": {},
     "output_type": "execute_result"
    }
   ],
   "source": [
    "re.sub(r'(\\b[a-z]+) \\1', r'\\1', 'cat in the the hat') # (r'検索パターン', '置換方法', '検索対象')"
   ]
  },
  {
   "cell_type": "code",
   "execution_count": 6,
   "metadata": {},
   "outputs": [
    {
     "name": "stdout",
     "output_type": "stream",
     "text": [
      "0.7071067811865476\n",
      "10.0\n"
     ]
    }
   ],
   "source": [
    "import math\n",
    "print(math.cos(math.pi /4))\n",
    "print(math.log(1024, 2))"
   ]
  },
  {
   "cell_type": "code",
   "execution_count": 40,
   "metadata": {},
   "outputs": [
    {
     "name": "stdout",
     "output_type": "stream",
     "text": [
      "B\n",
      "[83, 82, 34, 97, 42]\n",
      "0.5732559355838933\n",
      "9\n",
      "10\n"
     ]
    }
   ],
   "source": [
    "import random\n",
    "print(random.choice(['A', 'B', 'C', 'D', 'E']))\n",
    "\n",
    "print(random.sample(range(100), 5))\n",
    "\n",
    "print(random.random()) # random float(0, 1)\n",
    "print(random.randint(0, 10)) # random int(0, 10)\n",
    "print(random.randrange(10, 101, 10)) "
   ]
  },
  {
   "cell_type": "code",
   "execution_count": 45,
   "metadata": {},
   "outputs": [
    {
     "name": "stdout",
     "output_type": "stream",
     "text": [
      "2023-02-14\n",
      "26\n"
     ]
    }
   ],
   "source": [
    "from datetime import date\n",
    "now = date.today()\n",
    "print(now)\n",
    "\n",
    "birthday = date(1996, 4, 27)\n",
    "age = now - birthday\n",
    "print(age.days // 365)"
   ]
  },
  {
   "cell_type": "code",
   "execution_count": 1,
   "metadata": {},
   "outputs": [
    {
     "name": "stdout",
     "output_type": "stream",
     "text": [
      "2023-02-15 11:20:27.242061\n",
      "2023-02-15 10:20:27.242061\n"
     ]
    }
   ],
   "source": [
    "from datetime import datetime, timedelta\n",
    "now = datetime.now()\n",
    "print(now)\n",
    "\n",
    "print(now + timedelta(hours=-1))"
   ]
  },
  {
   "cell_type": "code",
   "execution_count": 5,
   "metadata": {},
   "outputs": [
    {
     "name": "stdout",
     "output_type": "stream",
     "text": [
      "2023-02-15 02:28:12.831310+00:00\n",
      "2023-02-15 02:28:12.831429\n",
      "2023-02-15 11:28:12.831460\n",
      "2023-02-15 11:28:12.831508+09:00\n"
     ]
    }
   ],
   "source": [
    "from datetime import datetime, timezone\n",
    "from zoneinfo import ZoneInfo\n",
    "print(datetime.now(tz=timezone.utc))\n",
    "print(datetime.utcnow())\n",
    "print(datetime.now())\n",
    "print(datetime.now(tz=ZoneInfo('Asia/Tokyo')))"
   ]
  },
  {
   "cell_type": "code",
   "execution_count": 10,
   "metadata": {},
   "outputs": [
    {
     "name": "stdout",
     "output_type": "stream",
     "text": [
      "2023年02月15日 11時33分54秒\n",
      "Feb 15 (Wed) 2023 11:33:54\n"
     ]
    }
   ],
   "source": [
    "now = datetime.now()\n",
    "print(now.strftime('%Y年%m月%d日 %H時%M分%S秒'))\n",
    "print(now.strftime('%b %d (%a) %Y %H:%M:%S'))"
   ]
  },
  {
   "cell_type": "code",
   "execution_count": 16,
   "metadata": {},
   "outputs": [
    {
     "name": "stdout",
     "output_type": "stream",
     "text": [
      "水\n",
      "02 / 15 / 2023\n"
     ]
    }
   ],
   "source": [
    "# import locale\n",
    "# locale.setlocale(locale.LC_TIME, 'Japanese_Japan.UTF-8')\n",
    "w_list = ['月', '火', '水', '木', '金', '土', '日']\n",
    "print(w_list[now.weekday()])\n",
    "print(now.strftime('%m / %d / %Y'))"
   ]
  },
  {
   "cell_type": "code",
   "execution_count": 24,
   "metadata": {},
   "outputs": [
    {
     "name": "stdout",
     "output_type": "stream",
     "text": [
      "datetime: 2023-02-15T03:28:25.518948+00:00\n",
      "2023-02-15T03:28:25.518948+00:00\n",
      "\n",
      "2023-02-15 03:28:25.518948\n"
     ]
    }
   ],
   "source": [
    "from urllib.request import urlopen\n",
    "\n",
    "url = 'http://worldtimeapi.org/api/timezone/etc/UTC.txt'\n",
    "with urlopen(url) as response:\n",
    "    for line in response:\n",
    "        line = line.decode()\n",
    "        if line.startswith('datetime'):\n",
    "            print(line.rstrip())\n",
    "            print(line[10:])\n",
    "            now = datetime.strptime(line[10:-7], '%Y-%m-%dT%H:%M:%S.%f')\n",
    "            print(now)\n"
   ]
  },
  {
   "cell_type": "code",
   "execution_count": 28,
   "metadata": {},
   "outputs": [
    {
     "data": {
      "text/plain": [
       "(221, b'dc51.etius.jp')"
      ]
     },
     "execution_count": 28,
     "metadata": {},
     "output_type": "execute_result"
    }
   ],
   "source": [
    "import smtplib\n",
    "host = 'cybermissions.co.jp'\n",
    "port = 25\n",
    "server = smtplib.SMTP(host, port)\n",
    "\n",
    "account = '******'\n",
    "password = '******'\n",
    "server.starttls()\n",
    "server.login(account, password)\n",
    "\n",
    "from_addr = '******@cybermissions.co.jp'\n",
    "to_addr = '******@cybermissions.co.jp'\n",
    "msg = f\"\"\"\n",
    "To: {to_addr}\n",
    "From: {from_addr}\n",
    "Subject: test mail\n",
    "Hello!\n",
    "\"\"\"\n",
    "\n",
    "server.sendmail(from_addr, to_addr, msg)\n",
    "server.quit()"
   ]
  },
  {
   "cell_type": "code",
   "execution_count": 3,
   "metadata": {},
   "outputs": [
    {
     "name": "stdout",
     "output_type": "stream",
     "text": [
      "<class 'bytes'>\n",
      "41\n"
     ]
    }
   ],
   "source": [
    "s = b'witch which has which witches wrist watch'\n",
    "print(type(s))\n",
    "print(len(s))"
   ]
  },
  {
   "cell_type": "code",
   "execution_count": 10,
   "metadata": {},
   "outputs": [
    {
     "name": "stdout",
     "output_type": "stream",
     "text": [
      "226805979\n",
      "<class 'bytes'>\n",
      "37\n",
      "b'witch which has which witches wrist watch'\n",
      "226805979\n"
     ]
    }
   ],
   "source": [
    "import zlib\n",
    "print(zlib.crc32(s))\n",
    "t = zlib.compress(s)\n",
    "print(type(t))\n",
    "print(len(t))\n",
    "print(zlib.decompress(t))\n",
    "print(zlib.crc32(zlib.decompress(t)))"
   ]
  },
  {
   "cell_type": "code",
   "execution_count": 15,
   "metadata": {},
   "outputs": [
    {
     "name": "stdout",
     "output_type": "stream",
     "text": [
      "45\n",
      "499999500000\n",
      "14.9 ms ± 1.27 ms per loop (mean ± std. dev. of 7 runs, 100 loops each)\n"
     ]
    }
   ],
   "source": [
    "def sum_range(n):\n",
    "    return sum(range(n))\n",
    "\n",
    "print(sum_range(10)) # 0 + 1 + 2 + ... + 8 + 9\n",
    "print(sum_range(1000000))\n",
    "%timeit sum_range(1000000)"
   ]
  },
  {
   "cell_type": "code",
   "execution_count": 14,
   "metadata": {},
   "outputs": [
    {
     "name": "stdout",
     "output_type": "stream",
     "text": [
      "0.016750316000070598\n"
     ]
    }
   ],
   "source": [
    "import timeit\n",
    "testcode = \"\"\"\n",
    "def sum_range(n):\n",
    "    return sum(range(n))\n",
    "sum_range(n)\n",
    "\"\"\"\n",
    "result = timeit.timeit(setup=\"n = 1000000\", stmt=testcode, number=1)\n",
    "print(result)"
   ]
  },
  {
   "cell_type": "code",
   "execution_count": null,
   "metadata": {},
   "outputs": [],
   "source": []
  }
 ],
 "metadata": {
  "kernelspec": {
   "display_name": ".venv",
   "language": "python",
   "name": "python3"
  },
  "language_info": {
   "codemirror_mode": {
    "name": "ipython",
    "version": 3
   },
   "file_extension": ".py",
   "mimetype": "text/x-python",
   "name": "python",
   "nbconvert_exporter": "python",
   "pygments_lexer": "ipython3",
   "version": "3.10.4"
  },
  "orig_nbformat": 4,
  "vscode": {
   "interpreter": {
    "hash": "85fe8e32384d0cfd58cfb4eb571d6516f832225e443b7357734be77b01a87cc9"
   }
  }
 },
 "nbformat": 4,
 "nbformat_minor": 2
}

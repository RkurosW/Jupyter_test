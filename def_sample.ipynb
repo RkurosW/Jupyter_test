{
 "cells": [
  {
   "cell_type": "code",
   "execution_count": 10,
   "metadata": {},
   "outputs": [
    {
     "name": "stdout",
     "output_type": "stream",
     "text": [
      "[0, 0, 1, 0, 0, 0, 0, 1]\n"
     ]
    }
   ],
   "source": [
    "# FEサンプル問題 問2\n",
    "def to_bin(j):\n",
    "    NISHIN = [None] * 9\n",
    "    for k in range(1, 9, 1):\n",
    "        # a\n",
    "        NISHIN[k] = j % 2\n",
    "        # b\n",
    "        j //= 2\n",
    "    result = NISHIN[1:]\n",
    "    result.reverse()\n",
    "    return result\n",
    "\n",
    "print(to_bin(33))"
   ]
  },
  {
   "cell_type": "code",
   "execution_count": 17,
   "metadata": {},
   "outputs": [
    {
     "name": "stdout",
     "output_type": "stream",
     "text": [
      "2\n",
      "2\n"
     ]
    }
   ],
   "source": [
    "x = 1\n",
    "def foo():\n",
    "    x = 2\n",
    "    # global x # グローバル変数を使う宣言\n",
    "    x += 1 # 宣言することでグローバル変数を変更できる\n",
    "    print(x) # 関数の内のグローバル変数\n",
    "\n",
    "foo()\n",
    "print(x) # 関数の外のグローバル変数(変更後)"
   ]
  },
  {
   "cell_type": "code",
   "execution_count": 22,
   "metadata": {},
   "outputs": [
    {
     "name": "stdout",
     "output_type": "stream",
     "text": [
      "[1, 2, 3, 1, 2, 3]\n",
      "[1, 2, 3, 1, 2, 3]\n"
     ]
    }
   ],
   "source": [
    "def f(n):\n",
    "    n *= 2\n",
    "    print (n)\n",
    "\n",
    "x = [1, 2, 3]\n",
    "f(x)\n",
    "print(x)"
   ]
  },
  {
   "cell_type": "code",
   "execution_count": 36,
   "metadata": {},
   "outputs": [
    {
     "name": "stdout",
     "output_type": "stream",
     "text": [
      "(15, 5, 50, 2.0)\n",
      "<class 'tuple'>\n",
      "15 5 50 2.0\n",
      "50\n"
     ]
    }
   ],
   "source": [
    "# 戻り値\n",
    "def f(a, b):\n",
    "    return a + b, a - b, a * b, a / b\n",
    "\n",
    "ret = f(10, 5)\n",
    "print(ret)\n",
    "print(type(ret))\n",
    "\n",
    "plus, minus, multi, divide = f(10, 5)\n",
    "print(plus, minus, multi, divide)\n",
    "\n",
    "_, _, a, _ = f(10, 5)\n",
    "print(a)"
   ]
  },
  {
   "cell_type": "code",
   "execution_count": 54,
   "metadata": {},
   "outputs": [
    {
     "name": "stdout",
     "output_type": "stream",
     "text": [
      "1 0 -1\n",
      "2 3 -1\n",
      "10 0 20\n",
      "5 3 10\n"
     ]
    }
   ],
   "source": [
    "def f(a, b=0, c=-1): # デフォルト値\n",
    "    print(a, b, c) # 引数は数が一致してないとエラー\n",
    "\n",
    "f(1) \n",
    "f(2, 3)\n",
    "f(10, c=20)\n",
    "f(5, c=10, b=3) # 仮引数を指定する場合、指定の順番は自由\n",
    "# f(10, a=11) # 仮引数を2回指定することはできない"
   ]
  },
  {
   "cell_type": "code",
   "execution_count": 57,
   "metadata": {},
   "outputs": [
    {
     "name": "stdout",
     "output_type": "stream",
     "text": [
      "(1,) <class 'tuple'> 1\n",
      "(1, 2, 3) <class 'tuple'> 3\n",
      "() <class 'tuple'> 0\n"
     ]
    }
   ],
   "source": [
    "def f(*args):\n",
    "    print(args, type(args), len(args))\n",
    "\n",
    "f(1)\n",
    "f(1, 2, 3)\n",
    "f()"
   ]
  },
  {
   "cell_type": "code",
   "execution_count": 61,
   "metadata": {},
   "outputs": [
    {
     "name": "stdout",
     "output_type": "stream",
     "text": [
      "1 ()\n",
      "1 (2, 3)\n"
     ]
    }
   ],
   "source": [
    "# 可変長引数\n",
    "def f(a, *args): # *がつく引数は最後に設定する\n",
    "    print(a, args)\n",
    "\n",
    "f(1)\n",
    "f(1, 2, 3) # 2つ目以降の引数は*argsに吸い取られる"
   ]
  },
  {
   "cell_type": "code",
   "execution_count": 78,
   "metadata": {},
   "outputs": [
    {
     "name": "stdout",
     "output_type": "stream",
     "text": [
      "10\n",
      "20\n",
      "(30, 40) <class 'tuple'>\n",
      "{'value2': 2, 'value3': 3} <class 'dict'>\n"
     ]
    }
   ],
   "source": [
    "#キーワード引数(引数を渡すときにキーワードを記載する必要がある)\n",
    "def f(a, value1=0, *args, **kwargs): \n",
    "    print(a)\n",
    "    print(value1)\n",
    "    print(args, type(args))\n",
    "    print(kwargs, type(kwargs))\n",
    "\n",
    "f(10, 20, 30, 40, value2=2, value3=3)"
   ]
  }
 ],
 "metadata": {
  "kernelspec": {
   "display_name": ".venv",
   "language": "python",
   "name": "python3"
  },
  "language_info": {
   "codemirror_mode": {
    "name": "ipython",
    "version": 3
   },
   "file_extension": ".py",
   "mimetype": "text/x-python",
   "name": "python",
   "nbconvert_exporter": "python",
   "pygments_lexer": "ipython3",
   "version": "3.10.4"
  },
  "orig_nbformat": 4,
  "vscode": {
   "interpreter": {
    "hash": "85fe8e32384d0cfd58cfb4eb571d6516f832225e443b7357734be77b01a87cc9"
   }
  }
 },
 "nbformat": 4,
 "nbformat_minor": 2
}
